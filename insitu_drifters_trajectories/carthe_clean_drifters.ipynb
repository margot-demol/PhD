{
 "cells": [
  {
   "cell_type": "markdown",
   "id": "85c03afc",
   "metadata": {},
   "source": [
    "# CARTHE - clean data: drifters\n",
    "\n",
    "To do:\n",
    "\n",
    "- (tmp) analysis with drifters: \n",
    "    - [ ] maps of trajectories\n",
    "    - [ ] trajectories in relative frame of reference\n",
    "    - [ ] relative dispersion\n",
    "    - [ ] produce movies of trajectories\n",
    "    - [ ] produce movies of relative evolution\n"
   ]
  },
  {
   "cell_type": "code",
   "execution_count": null,
   "id": "bee5a1d4",
   "metadata": {
    "tags": []
   },
   "outputs": [],
   "source": [
    "import os\n",
    "from glob import glob\n",
    "\n",
    "import numpy as np\n",
    "import pandas as pd\n",
    "\n",
    "%matplotlib inline\n",
    "import matplotlib.pyplot as plt\n",
    "import hvplot.pandas  # noqa\n",
    "\n",
    "#\n",
    "import pynsitu as pin\n",
    "from pynsitu.maps import crs"
   ]
  },
  {
   "cell_type": "code",
   "execution_count": null,
   "id": "e1610c1d-1e86-4430-bfa8-6ca6f1eae61c",
   "metadata": {},
   "outputs": [],
   "source": [
    "pwd\n"
   ]
  },
  {
   "cell_type": "code",
   "execution_count": null,
   "id": "7cd3eab3",
   "metadata": {
    "tags": []
   },
   "outputs": [],
   "source": [
    "## data directory \n",
    "#raw_dir = '/home/datawork-lops-osi/aponte/cswot/drifters/raw'\n",
    "raw_dir = '/Users/mdemol/DATA_DRIFTERS/drifters/raw'\n",
    "\n",
    "#root_dir = '/home1/datahome/mdemol/PhD/insitu_trajectories'\n",
    "root_dir = '/Users/mdemol/code/PhD/insitu_drifters_trajectories'\n",
    "# drifters\n",
    "campaign=\"drifters_CSWOT_BIOSWOT\"\n",
    "yaml = f\"{campaign}.yaml\"\n",
    "\n",
    "cp = pin.Campaign(os.path.join(root_dir,yaml))\n",
    "\n",
    "# plot all deployments\n",
    "for label, deployment, platform, sensor, meta in cp.get_all_deployments():\n",
    "    print(label, platform, sensor, deployment)"
   ]
  },
  {
   "cell_type": "code",
   "execution_count": null,
   "id": "b9839acd-13e0-4f1e-a538-88d74f718d80",
   "metadata": {},
   "outputs": [],
   "source": [
    "def read_raw_carthe():\n",
    "    filecb = glob(os.path.join(raw_dir,'carthe_*cnr*'))\n",
    "    dfcb =pd.read_csv(filecb[0], sep=',').rename(columns={'DeviceName':'id', 'DeviceDateTime':'time', 'Latitude':'lat', 'Longitude':'lon' }).drop(['CommId','DataId'], axis=1)\n",
    "    dfcb['time']=pd.to_datetime(dfcb['time'])\n",
    "    filecc = glob(os.path.join(raw_dir, 'carthe_*lops*'))\n",
    "    dfcc =pd.read_csv(filecc[0], sep=',').rename(columns={'DeviceName':'id', 'DeviceDateTime':'time', 'Latitude':'lat', 'Longitude':'lon' }).drop(['CommId','DataId'], axis=1)\n",
    "    dfcc['time']=pd.to_datetime(dfcc['time'])\n",
    "    return dfcb, dfcc\n",
    "\n",
    "#df = read_raw_carthe()[0]\n",
    "df = read_raw_carthe()[1]\n",
    "df = df.set_index('id')\n"
   ]
  },
  {
   "cell_type": "markdown",
   "id": "dbdb8183-b8a3-476a-a183-bf0544f6522a",
   "metadata": {},
   "source": [
    "________\n",
    "# LOPS"
   ]
  },
  {
   "cell_type": "code",
   "execution_count": null,
   "id": "ac69a284-8bf4-4162-bf4c-a6a68808c6c6",
   "metadata": {},
   "outputs": [],
   "source": [
    "ids = sorted(list(df.index.unique()))\n",
    "ids"
   ]
  },
  {
   "cell_type": "markdown",
   "id": "59a65ea0",
   "metadata": {},
   "source": [
    "Test if ids in data file and yaml file are identical"
   ]
  },
  {
   "cell_type": "code",
   "execution_count": null,
   "id": "796909a1-8bd1-400b-b5f6-fb37903e2616",
   "metadata": {
    "tags": []
   },
   "outputs": [],
   "source": [
    "# filter out earlier deployments\n",
    "df = df.loc[ df.time>=cp[\"start\"] ]\n",
    "\n",
    "# filter out taos deployments\n",
    "ids = [i for i in ids if df.loc[i].lat.max()<45]\n",
    "df = df.loc[ids]\n",
    "\n",
    "# print basic information\n",
    "for i in ids:\n",
    "    print(i, df.loc[i].time.min(), df.loc[i].time.max())"
   ]
  },
  {
   "cell_type": "code",
   "execution_count": null,
   "id": "9fab6b77-4dd6-45ff-94dc-7728c336fc08",
   "metadata": {
    "tags": []
   },
   "outputs": [],
   "source": [
    "# extract deployment order\n",
    "df.groupby(df.index).apply(lambda df: df.sort_values(\"time\").iloc[0]).sort_values(\"time\")"
   ]
  },
  {
   "cell_type": "code",
   "execution_count": null,
   "id": "d8d4e7ca",
   "metadata": {
    "tags": []
   },
   "outputs": [],
   "source": [
    "#\n",
    "ids_map = {p: cp[p][\"serial_number\"] for p in cp if  \"carthe_lops\" in p}\n",
    "ids_yaml = sorted(set([id for _, id in ids_map.items()]))\n",
    "ids_imap = {v: k for k, v in ids_map.items()}\n",
    "\n",
    "print(\"drifter id's in data file:\")\n",
    "print(ids)\n",
    "print(\"drifter id's in yaml file:\")\n",
    "print(ids_yaml)\n",
    "\n",
    "flag = set(ids).issuperset(ids_yaml)\n",
    "if flag:\n",
    "    print(\"Data file and campaign yaml file agree upon drifter ids\")\n",
    "else:\n",
    "    assert False, \"Data file and campaign yaml file do not agree upon drifter ids\""
   ]
  },
  {
   "cell_type": "markdown",
   "id": "b15dbbd6-e349-4acd-827a-fa2548e81152",
   "metadata": {},
   "source": [
    "\n",
    "### compute and show typical time intervals\n",
    "\n",
    "This is to decide on a reasonable target timeline.\n",
    "A 1 minutes sampling rate seems reasonable after interpolation."
   ]
  },
  {
   "cell_type": "code",
   "execution_count": null,
   "id": "76b80e14-ee45-4028-8603-36c161e9c290",
   "metadata": {
    "tags": []
   },
   "outputs": [],
   "source": [
    "df[\"dt\"] = (\n",
    "    df.groupby(df.index)\n",
    "    .apply(lambda df: df.sort_values(\"time\")[\"time\"].diff() / pd.Timedelta(\"1m\"))\n",
    "    .droplevel(0)\n",
    ")\n",
    "\n",
    "# drop small time intervals\n",
    "# df = df.loc[df.dt>3]\n",
    "\n",
    "fig, ax = plt.subplots(1, 1)\n",
    "df[\"dt\"].plot.hist(bins=np.arange(0, 20, 0.5))\n",
    "ax.set_yscale(\"log\")\n",
    "ax.grid()\n",
    "ax.set_title(\"Time interval between positions\")\n",
    "ax.set_xlabel(\"minutes\")\n",
    "\n",
    "_frac = df[\"dt\"].loc[np.abs(df.dt - 5) < 1].size / df[\"dt\"].size\n",
    "print(f\"Percentage of time invervals between 4 and 6 minutes: {_frac*100:.0f}%\")"
   ]
  },
  {
   "cell_type": "markdown",
   "id": "8410f2cf-08e9-4dbb-94ed-79f4929f675e",
   "metadata": {},
   "source": [
    "---\n",
    "## manually adjust deployment times first\n",
    "\n",
    "This step is useful to infer deployment times a posteriori for each drifter individually."
   ]
  },
  {
   "cell_type": "code",
   "execution_count": null,
   "id": "46ce5fc3-3d76-434a-a1ce-79b59fb01e53",
   "metadata": {
    "tags": []
   },
   "outputs": [],
   "source": [
    "p, d = \"carthe_lops_03\", \"d0\"\n",
    "\n",
    "#p, d = \"drifter7\", \"d0\"\n",
    "#p, d = \"drifter8\", \"d0\"\n",
    "#p, d = \"drifter9\", \"d0\"\n",
    "\n",
    "_id = ids_map[p]\n",
    "print(f\"Drifter id: {_id}\")\n",
    "\n",
    "_df = df.loc[_id].set_index(\"time\").sort_index()\n",
    "_df.geo.compute_velocities(inplace=True)\n",
    "_df.geo.plot_bokeh(deployments=cp[p][d], velocity=True, acceleration=True)"
   ]
  },
  {
   "cell_type": "code",
   "execution_count": null,
   "id": "3e007299-18ee-4550-b3b0-e7137b2ccd15",
   "metadata": {
    "tags": []
   },
   "outputs": [],
   "source": [
    "phv, coords = _df.geo.plot_on_map(s=10, c=\"velocity\", clim=(0,1), cmap=\"magma\")\n",
    "phv"
   ]
  }
 ],
 "metadata": {
  "kernelspec": {
   "display_name": "Python 3 (ipykernel)",
   "language": "python",
   "name": "python3"
  },
  "language_info": {
   "codemirror_mode": {
    "name": "ipython",
    "version": 3
   },
   "file_extension": ".py",
   "mimetype": "text/x-python",
   "name": "python",
   "nbconvert_exporter": "python",
   "pygments_lexer": "ipython3",
   "version": "3.10.11"
  }
 },
 "nbformat": 4,
 "nbformat_minor": 5
}
