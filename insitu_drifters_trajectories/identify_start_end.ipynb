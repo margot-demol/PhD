{
 "cells": [
  {
   "cell_type": "markdown",
   "id": "85c03afc",
   "metadata": {},
   "source": [
    "# Yaml info"
   ]
  },
  {
   "cell_type": "code",
   "execution_count": null,
   "id": "bee5a1d4",
   "metadata": {
    "tags": []
   },
   "outputs": [],
   "source": [
    "import os\n",
    "from glob import glob\n",
    "\n",
    "import numpy as np\n",
    "import pandas as pd\n",
    "\n",
    "%matplotlib inline\n",
    "import matplotlib.pyplot as plt\n",
    "import hvplot.pandas  # noqa\n",
    "\n",
    "#\n",
    "import pynsitu as pin\n",
    "from pynsitu.maps import crs"
   ]
  },
  {
   "cell_type": "code",
   "execution_count": null,
   "id": "7cd3eab3",
   "metadata": {
    "tags": []
   },
   "outputs": [],
   "source": [
    "## data directory \n",
    "raw_dir = '/home/datawork-lops-osi/aponte/cswot/drifters/raw'\n",
    "root_dir = '/home1/datahome/mdemol/PhD/insitu_drifters_trajectories'\n",
    "\n",
    "# drifters\n",
    "campaign=\"drifters_CSWOT_BIOSWOT_UWA\"\n",
    "yaml = f\"{campaign}.yaml\"\n",
    "\n",
    "cp = pin.Campaign(os.path.join(root_dir,yaml))\n",
    "\n",
    "# plot all deployments\n",
    "for label, deployment, platform, sensor, meta in cp.get_all_deployments():\n",
    "    print(label, platform, sensor, deployment)"
   ]
  },
  {
   "cell_type": "markdown",
   "id": "20bb346c-2e51-45a7-b110-331fd976155f",
   "metadata": {},
   "source": [
    "_______\n",
    "# CHOOSE DATASET"
   ]
  },
  {
   "cell_type": "code",
   "execution_count": null,
   "id": "54c01a9d-eca3-42eb-840d-d7028b57086b",
   "metadata": {},
   "outputs": [],
   "source": [
    "key = 'carthe_uwa'\n",
    "df = pd.read_csv(glob(os.path.join(raw_dir, 'L0_' + key+'*'))[0], parse_dates = ['time'], dtype={\"id\":'string'}).set_index('id')\n",
    "ids = sorted(list(df.index.unique()))"
   ]
  },
  {
   "cell_type": "code",
   "execution_count": null,
   "id": "7cee55a3-2f0e-41b4-90f9-8b421034d6c6",
   "metadata": {},
   "outputs": [],
   "source": [
    "df"
   ]
  },
  {
   "cell_type": "markdown",
   "id": "df11ffbe-eecc-4e01-8466-bd125aeaeb07",
   "metadata": {},
   "source": [
    "## for svp : filter out big outliers"
   ]
  },
  {
   "cell_type": "code",
   "execution_count": null,
   "id": "6005ce3c-51d6-4b87-bbf7-eb30ecdc1afe",
   "metadata": {},
   "outputs": [],
   "source": [
    "testlat = (df.lat>37) & (df.lat<45)\n",
    "testlon = (df.lon>2) & (df.lon<10)\n",
    "test = testlon & testlat\n",
    "df = df.where(test).dropna(subset = 'lon')"
   ]
  },
  {
   "cell_type": "code",
   "execution_count": null,
   "id": "9fab6b77-4dd6-45ff-94dc-7728c336fc08",
   "metadata": {
    "tags": []
   },
   "outputs": [],
   "source": [
    "# extract deployment order\n",
    "#df.groupby(df.index).apply(lambda df: df.sort_values(\"time\").iloc[0]).sort_values(\"time\")"
   ]
  },
  {
   "cell_type": "markdown",
   "id": "59a65ea0",
   "metadata": {},
   "source": [
    "Test if ids in data file and yaml file are identical"
   ]
  },
  {
   "cell_type": "code",
   "execution_count": null,
   "id": "d8d4e7ca",
   "metadata": {
    "tags": []
   },
   "outputs": [],
   "source": [
    "ids_map = {p: cp[p][\"serial_number\"] for p in cp if  key in p}\n",
    "ids_yaml = sorted(set([id for _, id in ids_map.items()]))\n",
    "ids_imap = {v: k for k, v in ids_map.items()}\n",
    "\n",
    "print(\"drifter id's in data file:\")\n",
    "print(ids)\n",
    "print(\"drifter id's in yaml file:\")\n",
    "\n",
    "print(ids_yaml)\n",
    "\n",
    "flag = set(ids).issuperset(ids_yaml)\n",
    "if flag:\n",
    "    print(\"Data file and campaign yaml file agree upon drifter ids\")\n",
    "else:\n",
    "    assert False, \"Data file and campaign yaml file do not agree upon drifter ids\""
   ]
  },
  {
   "cell_type": "markdown",
   "id": "8410f2cf-08e9-4dbb-94ed-79f4929f675e",
   "metadata": {},
   "source": [
    "---\n",
    "## manually adjust deployment times first\n",
    "\n",
    "This step is useful to infer deployment times a posteriori for each drifter individually."
   ]
  },
  {
   "cell_type": "code",
   "execution_count": null,
   "id": "46ce5fc3-3d76-434a-a1ce-79b59fb01e53",
   "metadata": {
    "tags": []
   },
   "outputs": [],
   "source": [
    "p, d = key+'_09', \"d0\"\n",
    "\n",
    "_id = ids_map[p]\n",
    "print(f\"Drifter id: {_id}\")\n",
    "\n",
    "_df = df.loc[_id].set_index(\"time\").sort_index()\n",
    "_df.geo.compute_velocities(inplace=True)\n",
    "_df.geo.plot_bokeh(deployments=cp[p][d], velocity=True, acceleration=True)"
   ]
  },
  {
   "cell_type": "code",
   "execution_count": null,
   "id": "3e007299-18ee-4550-b3b0-e7137b2ccd15",
   "metadata": {
    "tags": []
   },
   "outputs": [],
   "source": [
    "phv, coords = _df.geo.plot_on_map(s=10, c=\"velocity\", clim=(0,1), cmap=\"magma\")\n",
    "phv"
   ]
  },
  {
   "cell_type": "markdown",
   "id": "79cd760b-3f3c-4e53-9a52-173d7bff46c1",
   "metadata": {},
   "source": [
    "---\n",
    "## Start end positions\n"
   ]
  },
  {
   "cell_type": "code",
   "execution_count": null,
   "id": "6a5818dc-c262-44bc-b97a-9eb4ae6db6e3",
   "metadata": {},
   "outputs": [],
   "source": [
    "# plot all deployments\n",
    "P = []\n",
    "for label, deployment, platform, sensor, meta in cp.get_all_deployments():\n",
    "    P.append(platform)\n",
    "P = P[1:]"
   ]
  },
  {
   "cell_type": "code",
   "execution_count": null,
   "id": "9b449fd7-b92f-4ab0-b5ec-26f050adfa4d",
   "metadata": {
    "tags": []
   },
   "outputs": [],
   "source": [
    "Pcnr = [p for p in P if 'cnr' in p]\n",
    "Plops = [p for p in P if 'lops' in p]\n",
    "Pcode = [p for p in P if 'code' in p]\n",
    "Pscripps = [p for p in P if 'scripps' in p]\n",
    "Pbcg = [p for p in P if 'bcg' in p]\n",
    "Psvpogs = [p for p in P if 'svp_ogs' in p]\n",
    "Psvpshom = [p for p in P if 'svp_shom' in p]\n",
    "Pspotter = [p for p in P if 'spotter_lops' in p]\n",
    "Puwa = [p for p in P if 'carthe_uwa' in p]\n",
    "for plabel in Puwa:\n",
    "    p, d = plabel, \"d0\"\n",
    "    print(p)\n",
    "    start =cp[p][d]['start'].time\n",
    "    end = cp[p][d]['end'].time\n",
    "    print(start,end)\n",
    "    _id = cp[p]['serial_number']\n",
    "    _df = df.loc[_id]\n",
    "    test = (_df.time>start) & (_df.time<end)\n",
    "    _df=_df.where(test).dropna(subset='lon').sort_values('time')\n",
    "    print(_df.iloc[0].time,_df.iloc[-1].time, _df.iloc[0].lon, _df.iloc[0].lat, _df.iloc[-1].lon, _df.iloc[-1].lat)"
   ]
  },
  {
   "cell_type": "code",
   "execution_count": null,
   "id": "03ae5578-a97b-4a7e-8b0f-434a20ed4dea",
   "metadata": {},
   "outputs": [],
   "source": []
  }
 ],
 "metadata": {
  "kernelspec": {
   "display_name": "Python 3 (ipykernel)",
   "language": "python",
   "name": "python3"
  },
  "language_info": {
   "codemirror_mode": {
    "name": "ipython",
    "version": 3
   },
   "file_extension": ".py",
   "mimetype": "text/x-python",
   "name": "python",
   "nbconvert_exporter": "python",
   "pygments_lexer": "ipython3",
   "version": "3.9.13"
  }
 },
 "nbformat": 4,
 "nbformat_minor": 5
}
