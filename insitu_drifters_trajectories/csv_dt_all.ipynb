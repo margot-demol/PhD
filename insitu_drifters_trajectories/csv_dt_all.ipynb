{
 "cells": [
  {
   "cell_type": "code",
   "execution_count": 2,
   "id": "db5260b0-8112-4215-bfd8-b9bd590694f8",
   "metadata": {
    "tags": []
   },
   "outputs": [],
   "source": [
    "import os\n",
    "from glob import glob\n",
    "\n",
    "import numpy as np\n",
    "import pandas as pd\n",
    "\n",
    "%matplotlib inline\n",
    "import matplotlib.pyplot as plt\n",
    "import hvplot.pandas  # noqa\n",
    "\n",
    "#\n",
    "import pynsitu as pin\n",
    "from pynsitu.maps import crs\n",
    "\n",
    "from lib import raw_dir, root_dir, images_dir, KEYS, cut_date"
   ]
  },
  {
   "cell_type": "code",
   "execution_count": 3,
   "id": "da4e7afe-711c-44f8-b2a9-4a408a60c530",
   "metadata": {},
   "outputs": [
    {
     "name": "stdout",
     "output_type": "stream",
     "text": [
      "carthe_cnr\n",
      "carthe_lops\n",
      "code_ogs\n",
      "svp_ogs\n",
      "svp_scripps\n",
      "svp_shom\n",
      "svp_bcg\n",
      "spotter_lops\n",
      "carthe_uwa\n",
      "melodi_eodyn\n"
     ]
    }
   ],
   "source": [
    "for key in KEYS:\n",
    "    try:\n",
    "        df = pd.read_csv(\n",
    "            glob(os.path.join(raw_dir, \"L1_\" + key + \"*\"))[0],\n",
    "            parse_dates=[\"time\"],\n",
    "            dtype={\"id\": str},\n",
    "        )\n",
    "        print(key)\n",
    "    except:\n",
    "        continue\n",
    "    DF = []\n",
    "    # two differents when dt change\n",
    "    if key == \"svp_ogs\" or key == \"svp_scripps\":\n",
    "        DF.append(df[df.time < cut_date[key]])\n",
    "        DF.append(df[df.time > cut_date[key]])\n",
    "    else:\n",
    "        DF.append(df)\n",
    "    for df_ in DF:\n",
    "        delta = round(df_.dt.median() / 60)\n",
    "        path_dt = os.path.join(\n",
    "            root_dir, \"example_dt_list\", \"dt_\" + key + f\"_{delta}.csv\"\n",
    "        )\n",
    "        dt_ = df_.sort_values([\"id\", \"time\"]).dt.dropna()\n",
    "        dt_.to_csv(path_dt)"
   ]
  },
  {
   "cell_type": "code",
   "execution_count": null,
   "id": "0e97cd5c-4891-4b69-95f7-0f82103f9f6e",
   "metadata": {},
   "outputs": [],
   "source": []
  }
 ],
 "metadata": {
  "kernelspec": {
   "display_name": "Python 3 (ipykernel)",
   "language": "python",
   "name": "python3"
  },
  "language_info": {
   "codemirror_mode": {
    "name": "ipython",
    "version": 3
   },
   "file_extension": ".py",
   "mimetype": "text/x-python",
   "name": "python",
   "nbconvert_exporter": "python",
   "pygments_lexer": "ipython3",
   "version": "3.9.13"
  }
 },
 "nbformat": 4,
 "nbformat_minor": 5
}
