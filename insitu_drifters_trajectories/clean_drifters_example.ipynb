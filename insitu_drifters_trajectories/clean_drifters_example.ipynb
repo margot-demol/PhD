{
 "cells": [
  {
   "cell_type": "markdown",
   "id": "85c03afc",
   "metadata": {},
   "source": [
    "# Clean data: drifters\n",
    "\n",
    "To do:\n",
    "\n",
    "- (tmp) analysis with drifters: \n",
    "    - [ ] maps of trajectories\n",
    "    - [ ] trajectories in relative frame of reference\n",
    "    - [ ] relative dispersion\n",
    "    - [ ] produce movies of trajectories\n",
    "    - [ ] produce movies of relative evolution\n"
   ]
  },
  {
   "cell_type": "code",
   "execution_count": null,
   "id": "bee5a1d4",
   "metadata": {
    "tags": []
   },
   "outputs": [],
   "source": [
    "import os\n",
    "from glob import glob\n",
    "\n",
    "import numpy as np\n",
    "import pandas as pd\n",
    "\n",
    "%matplotlib inline\n",
    "import matplotlib.pyplot as plt\n",
    "import hvplot.pandas  # noqa\n",
    "\n",
    "#\n",
    "import pynsitu as pin\n",
    "from pynsitu.maps import crs\n",
    "\n",
    "from lib import raw_dir, root_dir, images_dir, KEYS"
   ]
  },
  {
   "cell_type": "code",
   "execution_count": null,
   "id": "7cd3eab3",
   "metadata": {
    "tags": []
   },
   "outputs": [],
   "source": [
    "# drifters\n",
    "campaign=\"drifters_CSWOT_BIOSWOT\"\n",
    "yaml = f\"{campaign}.yaml\"\n",
    "cp = pin.Campaign(os.path.join(root_dir,yaml))"
   ]
  },
  {
   "cell_type": "markdown",
   "id": "a56f58f5-a94f-414e-93ce-51c979448b7d",
   "metadata": {},
   "source": [
    "---\n",
    "\n",
    "# process one trajectory for illustration\n",
    "\n",
    "### Show raw speed distribution (for despiking purposes)"
   ]
  },
  {
   "cell_type": "code",
   "execution_count": null,
   "id": "d8d4e7ca",
   "metadata": {
    "tags": []
   },
   "outputs": [],
   "source": [
    "# CHOOSE DRIFTER TYPE\n",
    "key = KEYS[0]\n",
    "\n",
    "df = pd.read_csv(glob(os.path.join(raw_dir, key+'*'))[0], parse_dates = ['time'], dtype={\"id\":'string'}).set_index('id')\n",
    "ids = df.index.unique()\n",
    "\n",
    "ids_map = {p: cp[p][\"serial_number\"] for p in cp if  key in p}\n",
    "ids_yaml = sorted(set([id for _, id in ids_map.items()]))\n",
    "ids_imap = {v: k for k, v in ids_map.items()}\n",
    "\n",
    "flag = set(ids).issuperset(ids_yaml)\n",
    "if flag:\n",
    "    print(\"Data file and campaign yaml file agree upon drifter ids\")\n",
    "else:\n",
    "    assert False, \"Data file and campaign yaml file do not agree upon drifter ids\""
   ]
  },
  {
   "cell_type": "code",
   "execution_count": null,
   "id": "065d2206-c4e9-4913-bd05-4ad0274c90f1",
   "metadata": {},
   "outputs": [],
   "source": [
    "key"
   ]
  },
  {
   "cell_type": "code",
   "execution_count": null,
   "id": "f5fb8101-d46c-49a2-ab67-32490bb976b7",
   "metadata": {
    "tags": []
   },
   "outputs": [],
   "source": [
    "# CHOOSE DRIFTER\n",
    "\n",
    "p, d = key+'_01', 'd0'\n",
    "_id = cp[p]['serial_number']\n",
    "\n",
    "df0 = (df.loc[_id].set_index(\"time\").sort_index())\n",
    "print(df0.index.min())\n",
    "\n",
    "# trim before computing speed\n",
    "df0 = df0.ts.trim(cp[p][d])\n",
    "print(df0.index.min())\n",
    "\n",
    "# compute speed\n",
    "df0 = df0.geo.compute_velocities(keep_dt=True)\n",
    "df0 = df0.geo.compute_accelerations()\n",
    "df0[\"dt\"].iloc[0] = np.NaN # drops first dt\n",
    "\n",
    "# plot\n",
    "df0.geo.plot_bokeh(velocity=True, acceleration=True)"
   ]
  },
  {
   "cell_type": "code",
   "execution_count": null,
   "id": "c8441ea8-a1f4-4f51-bdf0-b68ce2d143de",
   "metadata": {
    "tags": []
   },
   "outputs": [],
   "source": [
    "kwargs = dict(x=\"x\", y=\"y\", hover_cols=['time'])\n",
    "_df = df0.reset_index()\n",
    "(_df.hvplot(**kwargs, color=\"k\", line_width=2)\n",
    "*_df.hvplot.scatter(**kwargs, s=30, c=\"velocity\").opts(clim=(0,1), cmap=\"magma\")\n",
    ").opts(show_grid=True)"
   ]
  },
  {
   "cell_type": "markdown",
   "id": "a5bc5c0c-268a-4dbb-9e6d-c51b46be0293",
   "metadata": {},
   "source": [
    "Notes:\n",
    "\n",
    "Several kinds of errors: isolated errors, apparent \"timing\" error (nearby times with different positions)\n"
   ]
  },
  {
   "cell_type": "markdown",
   "id": "5db68e38-6560-431a-82b2-b71cbdc37770",
   "metadata": {
    "tags": []
   },
   "source": [
    "### **step 1**: drops positions that are too close (less than 1 minute apart)\n",
    "\n",
    "Pairs of points may be seperated by less than a minute.\n",
    "\n",
    "Should we drop early or late data point?\n",
    "We choose to drop the early point which seems to be associated with an earlier point\n",
    "\n",
    "**Nearby positions allways seem to follow an extended time period without positions - verify !!**\n"
   ]
  },
  {
   "cell_type": "code",
   "execution_count": null,
   "id": "b60cd30e-008b-4b18-be82-0628f1b72344",
   "metadata": {
    "tags": []
   },
   "outputs": [],
   "source": [
    "dt_nearby_threshold = df0.dt.median()/60*0.5 # in minutes\n",
    "print(f'dt_lim:{dt_nearby_threshold}')\n",
    "df_bad = df0.loc[df0[\"dt\"]<60*dt_nearby_threshold]\n",
    "frac_full = (df_bad.index.size)/df.index.size\n",
    "print(f\"fraction of nearby data for the full dataset = {frac_full*100:.3f}%\")\n",
    "\n",
    "n_bad = df_bad.index.size\n",
    "n_bad"
   ]
  },
  {
   "cell_type": "code",
   "execution_count": null,
   "id": "d31c68eb-58dc-4139-8fbb-efc5beb8ede9",
   "metadata": {
    "tags": []
   },
   "outputs": [],
   "source": [
    "def plot_target_time(df, t, dt=None):\n",
    "    if dt is None:\n",
    "        dt = pd.Timedelta(\"20T\")\n",
    "    elif isinstance(dt, str):\n",
    "        dt = pd.Timedelta(dt)\n",
    "\n",
    "    df = df.loc[ (df.index>t-dt) & (df.index<t+dt)].copy()\n",
    "    df.loc[:,\"x\"] = df.loc[:,\"x\"]-df[\"x\"].mean()\n",
    "    df.loc[:,\"y\"] = df.loc[:,\"y\"]-df[\"y\"].mean()\n",
    "\n",
    "    tm = df.loc[ df.index<t ].index[-1]\n",
    "    \n",
    "    fig, axes = plt.subplots(1,3, figsize=(10,3))\n",
    "    #\n",
    "    ax = axes[0]\n",
    "    ax.plot(df[\"x\"], df[\"y\"], \"k\")\n",
    "    ms = 50\n",
    "    ax.scatter(df.loc[tm, \"x\"], df.loc[tm, \"y\"], 2*ms, marker=\"p\", color=\"orange\")\n",
    "    ax.scatter(df.loc[t, \"x\"], df.loc[t, \"y\"], 2*ms, marker=\"p\", color=\"red\")\n",
    "    ax.scatter(df[\"x\"], df[\"y\"], ms, marker=\"x\")\n",
    "    ax.scatter(df.iloc[0][\"x\"], df.iloc[0][\"y\"], 2*ms, marker=\"o\", color=\"cadetblue\")\n",
    "    ax.set_xlabel('x')\n",
    "    ax.set_ylabel('y')\n",
    "    ax.grid()\n",
    "    #\n",
    "    ax = axes[1]\n",
    "    kwargs = dict(ax=ax, ls=\"-\", marker=\"+\")\n",
    "    ax.scatter(df.index[0], df.iloc[0][\"velocity\"], 2*ms, marker=\"o\", color=\"cadetblue\")\n",
    "    df[\"velocity_east\"].plot(**kwargs)\n",
    "    df[\"velocity_north\"].plot(**kwargs)\n",
    "    df[\"velocity\"].plot(**kwargs, color=\"k\")\n",
    "    ax.scatter(tm, df.loc[tm, \"velocity\"], 2*ms, marker=\"p\", color=\"orange\")\n",
    "    ax.scatter(t, df.loc[t, \"velocity\"], 2*ms, marker=\"p\", color=\"red\")\n",
    "    ax.set_ylabel('Velocities')\n",
    "    ax.grid()\n",
    "    #\n",
    "    ax = axes[2]\n",
    "    kwargs = dict(ax=ax, ls=\"-\", marker=\"+\")\n",
    "    ax.scatter(df.index[0], df.iloc[0][\"acceleration\"], 2*ms, marker=\"o\", color=\"cadetblue\")\n",
    "    df[\"acceleration_east\"].plot(**kwargs, label = 'east')\n",
    "    df[\"acceleration_north\"].plot(**kwargs, label = 'north')\n",
    "    df[\"acceleration\"].plot(**kwargs, color=\"k\", label='norm')\n",
    "    ax.scatter(tm, df.loc[tm, \"acceleration\"], 2*ms, marker=\"p\", color=\"orange\")\n",
    "    ax.scatter(t, df.loc[t, \"acceleration\"], 2*ms, marker=\"p\", color=\"red\")\n",
    "    ax.set_ylabel('Accelerations')\n",
    "    ax.legend()\n",
    "    ax.grid()\n",
    "    fig.tight_layout()"
   ]
  },
  {
   "cell_type": "code",
   "execution_count": null,
   "id": "b7ffa20d-6203-4f53-ba31-11525d9f4464",
   "metadata": {
    "tags": []
   },
   "outputs": [],
   "source": [
    "def plot_target_time(df, t, dt=None, orange=True):\n",
    "    if dt is None:\n",
    "        dt = pd.Timedelta(\"30T\")\n",
    "    elif isinstance(dt, str):\n",
    "        dt = pd.Timedelta(dt)\n",
    "\n",
    "    df = df.loc[ (df.index>t-dt) & (df.index<t+dt)].copy()\n",
    "    df.loc[:,\"x\"] = df.loc[:,\"x\"]-df[\"x\"].mean()\n",
    "    df.loc[:,\"y\"] = df.loc[:,\"y\"]-df[\"y\"].mean()\n",
    "\n",
    "    tm = df.loc[ df.index<t ].index[-1]\n",
    "    \n",
    "    fig, axes = plt.subplots(1,2, figsize=(6,3))\n",
    "    #\n",
    "    ax = axes[0]\n",
    "    ax.plot(df[\"x\"], df[\"y\"], \"k\")\n",
    "    ms = 50\n",
    "    if orange == True :\n",
    "        ax.scatter(df.loc[tm, \"x\"], df.loc[tm, \"y\"], 2*ms, marker=\"p\", color=\"orange\")\n",
    "    ax.scatter(df.loc[t, \"x\"], df.loc[t, \"y\"], 2*ms, marker=\"p\", color=\"red\")\n",
    "    ax.scatter(df[\"x\"], df[\"y\"], ms, marker=\"x\")\n",
    "    ax.scatter(df.iloc[0][\"x\"], df.iloc[0][\"y\"], 2*ms, marker=\"o\", color=\"cadetblue\")\n",
    "    ax.set_xlabel('x [m]')\n",
    "    ax.set_ylabel('y [m]')\n",
    "    ax.grid()\n",
    "    #\n",
    "    ax = axes[1]\n",
    "    kwargs = dict(ax=ax, ls=\"-\", marker=\"+\")\n",
    "    ax.scatter(df.index[0], df.iloc[0][\"y\"], 2*ms, marker=\"o\", color=\"cadetblue\")\n",
    "    df[\"y\"].plot(**kwargs)\n",
    "    if orange == True :\n",
    "        ax.scatter(tm, df.loc[tm, \"y\"], 2*ms, marker=\"p\", color=\"orange\")\n",
    "    ax.scatter(t, df.loc[t, \"y\"], 2*ms, marker=\"p\", color=\"red\")\n",
    "    ax.set_ylabel('y [m]')\n",
    "    ax.grid()\n",
    "    fig.suptitle(df.dt.loc[t])\n",
    "    fig.tight_layout()\n",
    "    return fig"
   ]
  },
  {
   "cell_type": "code",
   "execution_count": null,
   "id": "c5e1c25b-441a-48d8-b159-eb7874fa6f79",
   "metadata": {},
   "outputs": [],
   "source": [
    "df_bad"
   ]
  },
  {
   "cell_type": "code",
   "execution_count": null,
   "id": "c9b5df97-6a9a-43bf-a578-727c64131460",
   "metadata": {
    "tags": []
   },
   "outputs": [],
   "source": [
    "for t in df_bad.index[:8]:\n",
    "    fig = plot_target_time(df0, t)\n",
    "fig.savefig(os.path.join(images_dir, 'ex_nearby_time.png'))"
   ]
  },
  {
   "cell_type": "code",
   "execution_count": null,
   "id": "489a6d47-f2cc-4c21-a318-96b083989c58",
   "metadata": {
    "tags": []
   },
   "outputs": [],
   "source": [
    "def drop_nearby_times(df, dt_threshold):\n",
    "    \"\"\" Find pairs of neighboring times and drop the first time from dataframe\n",
    "    \n",
    "    Parameters\n",
    "    ----------\n",
    "    df: pd.DataFrame\n",
    "    dt_thresdhold: int, float\n",
    "        Threshold defining nearby times in minutes\n",
    "    Returns\n",
    "    -------\n",
    "    df: pd.DataFrame\n",
    "        Cleaned dataframe\n",
    "    \"\"\"\n",
    "    \n",
    "    # find nearby times\n",
    "    df_bad = df.loc[df[\"dt\"]<60*dt_threshold]\n",
    "    print(f\"{df_bad.index.size} neighboring times found ({dt_threshold} minutes threshold)\")\n",
    "    \n",
    "    # drop\n",
    "    df = df.drop([df.loc[ df.index<t ].index[-1] for t in df_bad.index])\n",
    "    \n",
    "    # update velocity\n",
    "    df = df.geo.compute_velocities(keep_dt=True)\n",
    "    df = df.geo.compute_accelerations()\n",
    "\n",
    "    return df"
   ]
  },
  {
   "cell_type": "code",
   "execution_count": null,
   "id": "1eba3122-eb0c-45c9-9bef-c8682fb4c249",
   "metadata": {
    "tags": []
   },
   "outputs": [],
   "source": [
    "df1 = drop_nearby_times(df0, dt_nearby_threshold)"
   ]
  },
  {
   "cell_type": "code",
   "execution_count": null,
   "id": "baee598f-eeae-4e10-bfa9-39fa42eb9ecd",
   "metadata": {
    "tags": []
   },
   "outputs": [],
   "source": [
    "for t in df_bad.index[:8]:\n",
    "    fig = plot_target_time(df1, t, orange=False)\n",
    "fig.savefig(os.path.join(images_dir, 'ex_nearby_time_corrected.png'))"
   ]
  },
  {
   "cell_type": "markdown",
   "id": "6eab2900-e21c-458b-9b3c-9bfc5e0c211c",
   "metadata": {},
   "source": [
    "### **step 2** : manual editing of anomalous intervals\n",
    "\n",
    "We are generous with time invervals to smooth errors as much as possible"
   ]
  },
  {
   "cell_type": "code",
   "execution_count": null,
   "id": "e5037653-7f54-4fdf-bc3e-be96b8d829f9",
   "metadata": {
    "tags": []
   },
   "outputs": [],
   "source": [
    "M = dict()\n",
    "if campaign==\"taos1_drifters0\":\n",
    "    M[\"drifter1\"] = [slice(\"2022/11/17 17:02:40\", \"2022/12/01 00:00:00\")]"
   ]
  },
  {
   "cell_type": "code",
   "execution_count": null,
   "id": "ba17852a-7298-4149-bb0a-2a00cf95e621",
   "metadata": {
    "tags": []
   },
   "outputs": [],
   "source": [
    "def manual_edit(df, M):\n",
    "    for m in M:\n",
    "        df = df.loc[ (df.index<m.start) | (df.index>m.stop) ]\n",
    "    return df\n",
    "\n",
    "if p in M:\n",
    "    df2 = manual_edit(df1, M[p])\n",
    "else:\n",
    "    df2 = df1\n",
    "\n",
    "# update velocity?\n",
    "#df2 = df2.geo.compute_velocities(acceleration=True, keep_dt=True, centered=False)"
   ]
  },
  {
   "cell_type": "markdown",
   "id": "807ee7e9-6d36-4bb6-bcde-81783220531d",
   "metadata": {
    "tags": []
   },
   "source": [
    "### **step 3**: despike isolated anomalous values\n",
    "\n",
    "This is based on anomalous acceleration values combined with acceleration adequate sign reversal (see `despike_isolated` doc)\n",
    "\n",
    "0 m/s to 1 m/s over 3h is approx 1e-4, we are conservative and choose a looser threshold"
   ]
  },
  {
   "cell_type": "code",
   "execution_count": null,
   "id": "81837f07-577a-40b3-8b12-9e3564ef7402",
   "metadata": {
    "tags": []
   },
   "outputs": [],
   "source": [
    "acceleration_threshold = 1e-3\n",
    "\n",
    "df3 = pin.drifters.despike_isolated(df2, acceleration_threshold)\n",
    "\n",
    "# plot\n",
    "df3.geo.plot_bokeh(velocity=True, acceleration=True)"
   ]
  },
  {
   "cell_type": "markdown",
   "id": "5ca4856a-74f7-4b21-b6b3-190b3bdbde03",
   "metadata": {},
   "source": [
    "### **step 4**: smooth/interpolate time series\n",
    "\n",
    "How can we objectively choose parameter values: `position_error`, `acceleration_amplitude`, `acceleration_T` ?\n",
    "\n",
    "Could look at the sensitivity of histograms to these parameters or more global metrics (std)"
   ]
  },
  {
   "cell_type": "code",
   "execution_count": null,
   "id": "cf65add9-8667-4b86-8176-843f489eb250",
   "metadata": {
    "tags": []
   },
   "outputs": [],
   "source": [
    "# remaining peaks are presumably jumps in positions and should be smoothed out\n",
    "# interpolate along the way\n",
    "\n",
    "position_error = 100\n",
    "acceleration_amplitude = 2*1e-4 # m/s^2\n",
    "acceleration_T = 3600*3 # less effect than acceleration_amplitude in smoothing acceleration\n",
    "dt = \"1T\"\n",
    "\n",
    "t_target = pd.date_range(\n",
    "    cp[p][d].start.time.floor(dt),\n",
    "    cp[p][d].end.time.ceil(dt),\n",
    "    freq=dt,\n",
    ")\n",
    "\n",
    "df4 = pin.drifters.resample_smooth(\n",
    "    df3, t_target, position_error, acceleration_amplitude, acceleration_T,\n",
    ")\n",
    "# velocity/acceleration are updated by default"
   ]
  },
  {
   "cell_type": "code",
   "execution_count": null,
   "id": "62fbaa3c-8aab-414f-a50d-bdad58f4c6eb",
   "metadata": {
    "tags": []
   },
   "outputs": [],
   "source": [
    "kwargs = dict(x=\"x\", y=\"y\", hover_cols=['time'])\n",
    "\n",
    "_df = df4.reset_index()\n",
    "_df0 = df0.reset_index()\n",
    "\n",
    "(_df.hvplot(**kwargs, color=\"k\", line_width=2)\n",
    "*_df.hvplot.scatter(**kwargs, s=30, c=\"velocity\").opts(clim=(0,1), cmap=\"magma\")\n",
    "*_df0.hvplot.scatter(**kwargs, s=10, c=\"cadetblue\")\n",
    ").opts(show_grid=True)"
   ]
  },
  {
   "cell_type": "code",
   "execution_count": null,
   "id": "36daaf84-3d3d-4148-b10d-65b00153c973",
   "metadata": {
    "tags": []
   },
   "outputs": [],
   "source": [
    "# 'CartoLight', 'EsriNatGeo', 'EsriTerrain'\n",
    "#kwargs = dict(x=\"longitude\", y=\"latitude\", hover_cols=['time'], geo=True, tiles='EsriStreet', frame_width=400, frame_height=400)\n",
    "kwargs = dict(x=\"longitude\", y=\"latitude\", hover_cols=['time'], geo=True)\n",
    "\n",
    "\n",
    "# tiles are not working here anymore ... bug with current version of hvplot or geoviews - minimal example ?\n",
    "(\n",
    "_df.hvplot.points(**kwargs, color=\"k\", frame_width=500, frame_height=400) # tiles='CartoLight'\n",
    "*_df.hvplot.points(**kwargs, s=100, c=\"velocity\", clim=(0,1), cmap=\"magma\")\n",
    "*_df0.hvplot.points(**kwargs, s=10, c=\"cadetblue\")\n",
    ").opts()"
   ]
  },
  {
   "cell_type": "code",
   "execution_count": null,
   "id": "f63d277f-6ad4-45a4-9a55-4f3c2c4eaedf",
   "metadata": {
    "tags": []
   },
   "outputs": [],
   "source": [
    "df4.geo.plot_bokeh(velocity=True, acceleration=True)"
   ]
  },
  {
   "cell_type": "code",
   "execution_count": null,
   "id": "7184980a-f135-4058-a12b-1a3fc1774530",
   "metadata": {
    "tags": []
   },
   "outputs": [],
   "source": [
    "kwargs = dict(frame_width=300, grid=True)\n",
    "(df1[\"velocity_north\"].hvplot(**kwargs) * df4[\"velocity_north\"].hvplot(**kwargs)\n",
    "+ df1[\"velocity_east\"].hvplot(**kwargs) * df4[\"velocity_east\"].hvplot(**kwargs)\n",
    "+ df1[\"velocity\"].hvplot(**kwargs) * df4[\"velocity\"].hvplot(**kwargs)\n",
    "+ df1[\"acceleration\"].hvplot(**kwargs) * df4[\"acceleration\"].hvplot(**kwargs)\n",
    ").cols(2)"
   ]
  },
  {
   "cell_type": "markdown",
   "id": "846dbc08-6a2c-4f42-a11a-d6fd2afda532",
   "metadata": {},
   "source": [
    "---\n",
    "## apply to all drifter and deployments"
   ]
  },
  {
   "cell_type": "code",
   "execution_count": null,
   "id": "cef8b647-2cb5-4f59-b97f-6616e00e4a7b",
   "metadata": {
    "tags": []
   },
   "outputs": [],
   "source": [
    "D, D0 = [], []\n",
    "for p, i in ids_map.items():\n",
    "    for _, d in cp[p][\"deployments\"].items():\n",
    "\n",
    "        print(\"---- {} {} {} {:.1f} days\".format(p, d.label, i, d[\"duration_days\"]))\n",
    "        \n",
    "        # trim\n",
    "        df0 = df.loc[i].set_index(\"time\").sort_index()\n",
    "        df0 = df0.ts.trim(d)\n",
    "        df0[\"deployment\"] = d.label\n",
    "        df0[\"id\"] = i\n",
    "        df0[\"platform\"] = p\n",
    "        \n",
    "        # compute speed/acceleration\n",
    "        df0.geo.compute_velocities(keep_dt=True, inplace=True)\n",
    "        df0.geo.compute_accelerations(inplace=True)\n",
    "        df0[\"dt\"].iloc[0] = np.NaN # drops first dt\n",
    "        D0.append(df0) # will serve as starting dataset\n",
    "        \n",
    "        # remove timing errors\n",
    "        df1 = drop_nearby_times(df0, dt_nearby_threshold)\n",
    "        \n",
    "        # apply manual editing\n",
    "        if p in M:\n",
    "            df2 = manual_edit(df1, M[p])\n",
    "        else:\n",
    "            df2 = df1\n",
    "        \n",
    "        # despike\n",
    "        df3 = pin.drifters.despike_isolated(df2, acceleration_threshold)\n",
    "        \n",
    "        # smooth/interpolate\n",
    "        t_target = pd.date_range(d.start.time.floor(dt), d.end.time.ceil(dt), freq=dt)\n",
    "        df4 = pin.drifters.resample_smooth(\n",
    "            df3, t_target, position_error, acceleration_amplitude, acceleration_T\n",
    "        )\n",
    "        \n",
    "        # fills in relevant met data\n",
    "        start = df4.iloc[0][[\"longitude\", \"latitude\"]]\n",
    "        end = df4.iloc[-1][[\"longitude\", \"latitude\"]]\n",
    "        print(f\"start = {start.name}  {start.longitude:.4f}  {start.latitude:.4f}\")\n",
    "        print(f\"end = {end.name}  {end.longitude:.4f}  {end.latitude:.4f}\")\n",
    "        D.append(df4)\n",
    "\n",
    "df_clean = pd.concat(D, axis=0).reset_index().set_index(\"id\")\n",
    "df_trim = pd.concat(D0, axis=0).reset_index().set_index(\"id\")\n",
    "\n",
    "df_clean.head()"
   ]
  },
  {
   "cell_type": "markdown",
   "id": "65583034-53d8-4239-bb17-8f1071c66782",
   "metadata": {},
   "source": [
    "### store"
   ]
  },
  {
   "cell_type": "code",
   "execution_count": null,
   "id": "22821f92-37d8-4980-b61e-473c4bf7401e",
   "metadata": {
    "tags": []
   },
   "outputs": [],
   "source": [
    "df_clean.to_xarray().to_netcdf(os.path.join(cp[\"path_processed\"], \"drifters.nc\"), mode=\"w\")"
   ]
  },
  {
   "cell_type": "markdown",
   "id": "de1d3593-a2ac-414c-8f67-1a5c080d7a52",
   "metadata": {},
   "source": [
    "---\n",
    "\n",
    "## compare raw vs clean distributions of velocity and acceleration\n"
   ]
  },
  {
   "cell_type": "code",
   "execution_count": null,
   "id": "713dad44-0705-4854-a13e-a4265987b911",
   "metadata": {
    "tags": []
   },
   "outputs": [],
   "source": [
    "def compare_histograms(v, units, bins_zoomed, log=False):\n",
    "    fig, axes = plt.subplots(1, 2, figsize=(8,3))\n",
    "    ax = axes[0]\n",
    "    bins = 20\n",
    "    df_trim[v].plot.hist(ax=ax, bins=bins, alpha=0.5, label=\"raw\")\n",
    "    df_clean[v].plot.hist(ax=ax, bins=bins, alpha=0.5, label=\"clean\")\n",
    "    if log:\n",
    "        ax.set_yscale(\"log\")\n",
    "    ax.set_xlabel(units)\n",
    "    ax.grid()\n",
    "    ax.set_title(\"full, raw mean = {:.2e}, smoothed mean = {:.2e} \".format(df_trim[v].mean(), df_clean[v].mean()))\n",
    "    ax.legend()\n",
    "    #\n",
    "    ax = axes[1]\n",
    "    bins = bins_zoomed\n",
    "    df_trim[v].plot.hist(ax=ax, bins=bins, alpha=0.5)\n",
    "    df_clean[v].plot.hist(ax=ax, bins=bins, alpha=0.5)\n",
    "    if log:\n",
    "        ax.set_yscale(\"log\")\n",
    "    ax.set_xlabel(units)\n",
    "    ax.grid()\n",
    "    ax.set_title(\"zoomed\")"
   ]
  },
  {
   "cell_type": "code",
   "execution_count": null,
   "id": "599bf9e6-81bf-4408-a7fa-7fedb78ba114",
   "metadata": {
    "tags": []
   },
   "outputs": [],
   "source": [
    "compare_histograms(\"velocity\", \"[m/s]\", np.arange(0, 2, 0.02))\n",
    "compare_histograms(\"acceleration\", \"[m/s]\", np.arange(0, 5*1e-4, 5e-6))"
   ]
  },
  {
   "cell_type": "markdown",
   "id": "1b3486c9-2015-4b97-9b82-13c975fce5ab",
   "metadata": {},
   "source": [
    "## Other potentially useful plots\n",
    "\n",
    "### timeseries"
   ]
  },
  {
   "cell_type": "code",
   "execution_count": null,
   "id": "8fd33c37-3a11-40c6-ac3e-05e390df8a4a",
   "metadata": {
    "tags": []
   },
   "outputs": [],
   "source": [
    "fig, ax = plt.subplots(1, 1, figsize=(10, 5))\n",
    "for i in ids_yaml:\n",
    "    df_clean.loc[i].set_index(\"time\")[\"velocity\"].plot(\n",
    "        label=i\n",
    "    )  # x=\"longitude\", y=\"latitude\"\n",
    "ax.legend()\n",
    "ax.grid()"
   ]
  },
  {
   "cell_type": "markdown",
   "id": "bfa237c2-4d8c-4416-b1bf-b2c726f45a5e",
   "metadata": {},
   "source": [
    "### overview map of the trajectories"
   ]
  },
  {
   "cell_type": "code",
   "execution_count": null,
   "id": "f1cb1057-46e1-4fa1-8443-558421740a53",
   "metadata": {
    "tags": []
   },
   "outputs": [],
   "source": [
    "#bounds=[-.5, -.1, 49.25, 49.5]\n",
    "if campaign==\"taos2_drifters0\":\n",
    "    bounds=[-.4, .0, 49.25, 49.4] # taos0-drifters0\n",
    "elif campaign==\"taos2_drifters1\":\n",
    "    bounds=[-.4, -.8, 49.27, 49.42] # taos0-drifters1\n",
    "\n",
    "_df = df_clean.reset_index().set_index([\"id\", \"deployment\"])\n",
    "    \n",
    "fig, ax, cbar = cp.map(extent=bounds)\n",
    "\n",
    "keys = _df.groupby(_df.index).groups.keys()\n",
    "colors = pin.get_cmap_colors(len(keys))\n",
    "\n",
    "for k, c in zip(keys, colors):\n",
    "    _dfk = _df.groupby(_df.index).get_group(k).reset_index().dropna(axis=1)\n",
    "    ax.plot(_dfk.longitude, _dfk.latitude, color=c, transform=crs, label=\", \".join(k))\n",
    "    ax.scatter(_dfk.longitude.iloc[0], _dfk.latitude.iloc[0], color=c, transform=crs,\n",
    "            edgecolor=\"k\", s=100, zorder=10, marker=\"o\",\n",
    "           )\n",
    "    ax.scatter(_dfk.longitude.iloc[-1], _dfk.latitude.iloc[-1], color=c, transform=crs,\n",
    "            edgecolor=\"k\", s=200, zorder=10, marker=\"*\",\n",
    "           )\n",
    "\n",
    "ax.legend()"
   ]
  },
  {
   "cell_type": "markdown",
   "id": "0e5dbf57-cc82-47af-b42e-27e726f80183",
   "metadata": {},
   "source": [
    "---\n",
    "\n",
    "## inspecting displacement increments:\n",
    "\n",
    "\n",
    "Should be developped further, potentially useful to quantify the position noise level.\n",
    "\n",
    "Need to add reference velocity lines."
   ]
  },
  {
   "cell_type": "code",
   "execution_count": null,
   "id": "be2203f8-6cee-4f7f-9b65-ebc2212db340",
   "metadata": {},
   "outputs": [],
   "source": [
    "def dtdl_hist(df):\n",
    "    # copy and project\n",
    "    df = df.copy()\n",
    "    df.geo.project()\n",
    "\n",
    "    # define bins\n",
    "    dt_bins = np.arange(0, 20, 0.5)  # in minutes\n",
    "    dl_bins = np.arange(0, 2000, 50)  # in m\n",
    "\n",
    "    # compute time and space steps\n",
    "    df[\"dt\"] = (\n",
    "        df.groupby(df.index)\n",
    "        .apply(lambda _df: _df.sort_values(\"time\")[\"time\"].diff() / pd.Timedelta(\"1m\"))\n",
    "        .droplevel(0)\n",
    "    )\n",
    "    df[\"dx\"] = (\n",
    "        df.groupby(df.index)\n",
    "        .apply(lambda _df: _df.sort_values(\"time\")[\"x\"].diff())\n",
    "        .droplevel(0)\n",
    "    )\n",
    "    df[\"dy\"] = (\n",
    "        df.groupby(df.index)\n",
    "        .apply(lambda _df: _df.sort_values(\"time\")[\"y\"].diff())\n",
    "        .droplevel(0)\n",
    "    )\n",
    "    df[\"dl\"] = np.sqrt(df.dx**2 + df.dy**2)\n",
    "\n",
    "    # cut prior to grouping\n",
    "    df[\"dt_cut\"] = pd.cut(df.dt, dt_bins)\n",
    "    df[\"dl_cut\"] = pd.cut(df.dl, dl_bins)\n",
    "    # count\n",
    "    dfc = df.groupby([\"dt_cut\", \"dl_cut\"]).count()[\"dx\"].reset_index()\n",
    "    # massage and convert to xarray\n",
    "    dfc.loc[:, [\"dt\", \"dl\"]] = dfc.apply(\n",
    "        lambda row: pd.Series(dict(dt=row[\"dt_cut\"].left, dl=row[\"dl_cut\"].left)),\n",
    "        axis=1,\n",
    "    )\n",
    "    da = dfc.set_index([\"dt\", \"dl\"])[\"dx\"].to_xarray().rename(\"count\")\n",
    "    da = da.where(da > 0)\n",
    "\n",
    "    return da\n",
    "\n",
    "\n",
    "da = dtdl_hist(df)\n",
    "da.plot()\n",
    "\n",
    "fig, ax = plt.subplots(1, 1)\n",
    "da.isel(dt=0).plot()"
   ]
  },
  {
   "cell_type": "code",
   "execution_count": null,
   "id": "d74029f7-1537-4aa6-8d2c-e3da920beba2",
   "metadata": {},
   "outputs": [],
   "source": []
  },
  {
   "cell_type": "markdown",
   "id": "4bada8a6-a38b-484c-8f8b-714dc9920af1",
   "metadata": {},
   "source": [
    "At lag 0, the mode of the spatial spacing is 200m.\n",
    "\n",
    "Velocity associated with a 300m error over 10 minutes:"
   ]
  },
  {
   "cell_type": "code",
   "execution_count": null,
   "id": "d1082129-731b-40f9-b3de-5a5f8059cf06",
   "metadata": {},
   "outputs": [],
   "source": [
    "dl = 200  # meters\n",
    "dt = 10  # minutes\n",
    "print(f\"speed error={dl/(dt*60):.2f} m/s for dt={dt} min and dl={dl} m\")"
   ]
  },
  {
   "cell_type": "code",
   "execution_count": null,
   "id": "160e22e6-3bbb-4f3c-8713-23c48746d4ff",
   "metadata": {},
   "outputs": [],
   "source": []
  }
 ],
 "metadata": {
  "kernelspec": {
   "display_name": "Python 3 (ipykernel)",
   "language": "python",
   "name": "python3"
  },
  "language_info": {
   "codemirror_mode": {
    "name": "ipython",
    "version": 3
   },
   "file_extension": ".py",
   "mimetype": "text/x-python",
   "name": "python",
   "nbconvert_exporter": "python",
   "pygments_lexer": "ipython3",
   "version": "3.9.13"
  }
 },
 "nbformat": 4,
 "nbformat_minor": 5
}
