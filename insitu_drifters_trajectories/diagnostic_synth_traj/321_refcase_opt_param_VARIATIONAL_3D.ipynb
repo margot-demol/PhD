{
 "cells": [
  {
   "cell_type": "markdown",
   "id": "c750ecd2-a6f1-4ae5-8bde-5ce2431f5e1f",
   "metadata": {},
   "source": [
    "# Optimize parameters for the reference case for VARIATIONAL method\n",
    "- VARIATIONAL : "
   ]
  },
  {
   "cell_type": "code",
   "execution_count": null,
   "id": "bfa72f0b-5444-4125-9c10-ccd05d2f58dd",
   "metadata": {},
   "outputs": [],
   "source": [
    "import os\n",
    "from glob import glob\n",
    "\n",
    "import xarray as xr\n",
    "import pandas as pd\n",
    "import numpy as np\n",
    "\n",
    "import hvplot.xarray\n",
    "import hvplot.pandas\n",
    "\n",
    "import matplotlib.pyplot as plt\n",
    "from cycler import cycler\n",
    "\n",
    "from sstats import signals as sg\n",
    "from sstats import sigp as sigp\n",
    "from sstats import tseries as ts\n",
    "from sstats import get_cmap_colors\n",
    "\n",
    "import hvplot.xarray\n",
    "import hvplot.pandas\n",
    "import holoviews as hv\n",
    "\n",
    "import pynsitu as pyn\n",
    "import lib as lib\n",
    "from lib import KEYS, raw_dir, images_dir\n",
    "import os\n",
    "from glob import glob\n",
    "\n",
    "import synthetic_traj as st\n",
    "\n",
    "from synthetic_traj import synthetic_traj, noise_irregular_sampling, ref_case, typical_case"
   ]
  },
  {
   "cell_type": "markdown",
   "id": "5a910694-0e0e-4e18-b762-42ea6529da2d",
   "metadata": {},
   "source": [
    "___________\n",
    "# Reference case"
   ]
  },
  {
   "cell_type": "code",
   "execution_count": null,
   "id": "8010d738-72c2-437b-968c-7a5503b52a25",
   "metadata": {},
   "outputs": [],
   "source": [
    "N=20\n",
    "acc_cut = 1\n",
    "position_noise=20\n",
    "ntype = 'white_noise'\n",
    "offset_type = 'svp_scripps_10'\n",
    "dt_smooth = '30min'\n",
    "true_key = 'True_'+dt_smooth\n",
    "spectral_diff = False\n",
    "ref_case['spectral_diff'] = spectral_diff\n",
    "print(ref_case)"
   ]
  },
  {
   "cell_type": "code",
   "execution_count": null,
   "id": "14147755-855e-480c-81ff-8d6c99338aea",
   "metadata": {},
   "outputs": [],
   "source": [
    "DF = dict()\n",
    "\n",
    "# TRUE\n",
    "t = (50, '1min') # use it instead of (50, 1/24/60 because otherwise not regularly sampled\n",
    "dst = synthetic_traj(t, N , **ref_case)# u,v, ax, ay computed\n",
    "dft = st.dataset2dataframe(dst).rename(columns={'draw':'id'})\n",
    "DF['True_1min'] = dft\n",
    "\n",
    "#OBSERVED\n",
    "\n",
    "dso = noise_irregular_sampling(dst, t, position_noise, ntype=ntype, offset_type=offset_type, istart=6097)\n",
    "dfo = st.dataset2dataframe(dso).rename(columns={'draw':'id'})\n",
    "dfo = dfo.groupby('id').apply(pyn.geo.compute_dt, time='index')\n",
    "\n",
    "DF['Observed'] = dfo\n",
    "\n",
    "# Interpolated True\n",
    "dsti = dst.sel(time = pd.date_range(dfo.index.min(), dfo.index.max(), freq=dt_smooth))\n",
    "dsti['dt']=dsti.time.diff('time')/pd.Timedelta('1s')\n",
    "dfti = st.dataset2dataframe(dsti).rename(columns={'draw':'id'})\n",
    "dfti = dfti.groupby('id').apply(pyn.geo.compute_velocities,time='index', distance='xy', names=('u', 'v', 'U'), fill_startend=True, centered=True, keep_dt=True)\n",
    "dfti = dfti.groupby('id').apply(pyn.geo.compute_accelerations,from_ =('xy', 'x', 'y'), names=('ax', 'ay', 'Axy'), keep_dt=True)\n",
    "dsti = dfti.reset_index().set_index(['time', 'id']).to_xarray()\n",
    "\n",
    "\n",
    "DF['True_'+dt_smooth] = dfti"
   ]
  },
  {
   "cell_type": "markdown",
   "id": "a580f045-6438-4c03-8d37-d4318cd14552",
   "metadata": {},
   "source": [
    "___________\n",
    "# VARIATIONAL\n",
    "Parameters : \n",
    "- acc_cut\n",
    "- position_error = 20m\n",
    "- acceleration_amplitude = 1e-5 > 5e-5\n",
    "- acceleration_T in seconds = 5.5 ~T du synthetic traj ?\n",
    "- time_chunk\n",
    "\n"
   ]
  },
  {
   "cell_type": "code",
   "execution_count": null,
   "id": "ae219d37-fddc-4c65-bba8-47b2bdfb740e",
   "metadata": {},
   "outputs": [],
   "source": [
    "np.sqrt((dst.ax**2).mean('draw').mean())"
   ]
  },
  {
   "cell_type": "code",
   "execution_count": null,
   "id": "9bcd5a8f-c4e6-45a3-93b5-7cbc62ae8578",
   "metadata": {},
   "outputs": [],
   "source": [
    "np.sqrt((dst.ay**2).mean('draw').mean())"
   ]
  },
  {
   "cell_type": "code",
   "execution_count": null,
   "id": "1faa8f83-b34a-4c27-8a15-288ffee3feab",
   "metadata": {},
   "outputs": [],
   "source": [
    "acc_cut= 1\n",
    "position_error=position_noise\n",
    "acceleration_amplitude = 1e-5\n",
    "acceleration_T = 5.5*86400\n",
    "time_chunk=2"
   ]
  },
  {
   "cell_type": "code",
   "execution_count": null,
   "id": "f48451f1-3022-4586-9f94-5c7a0cebc01d",
   "metadata": {},
   "outputs": [],
   "source": [
    "DF.keys()"
   ]
  },
  {
   "cell_type": "markdown",
   "id": "988446ea-c2ef-4ee5-bbd6-dcd9c3010753",
   "metadata": {},
   "source": [
    "_________\n",
    "# 3D\n",
    "## Compute $ \\frac{\\langle(\\alpha-\\alpha_t)^2\\rangle}{\\langle \\alpha_t^2 \\rangle} $ \n"
   ]
  },
  {
   "cell_type": "code",
   "execution_count": null,
   "id": "dffcc414-12cd-4259-b77f-abe9da8038b0",
   "metadata": {
    "tags": []
   },
   "outputs": [],
   "source": [
    "acc_A = [0.1e-5,0.2e-5, 0.3e-5, 0.4e-5] + list(np.arange(0.5,10)*1e-5)\n",
    "pos_e = [5, 10, 20,40, 60, 80, 100]\n",
    "acc_T = [0.05, 0.1, 0.25] + list(np.arange(0.5,10.5))\n",
    "\n",
    "def f_3D() : \n",
    "    DSV = []\n",
    "    for acca in acc_A:\n",
    "        DSV_ = []\n",
    "        for p in pos_e:\n",
    "            DSV__ =[]\n",
    "            for acct in acc_T : \n",
    "                dfv = pyn.drifters.smooth_all(dfo, 'variational',\n",
    "                                          dt_smooth,\n",
    "                                          parameters = dict(acc_cut=acc_cut, position_error=p, acceleration_amplitude = acca, acceleration_T = acct*86400, acc_cut_key = ('ax', 'ay', 'Axy')),\n",
    "                                          spectral_diff = spectral_diff,\n",
    "                                          geo = False)\n",
    "                dfv = dfv.reset_index().set_index(['time', 'id'])\n",
    "                dsv = dfv.to_xarray().assign_coords(dict(acceleration_T=acct,position_error =p, acceleration_A = acca)).expand_dims(['acceleration_T', 'position_error', 'acceleration_A'])\n",
    "                DSV__.append(dsv)\n",
    "            ds = xr.concat(DSV__, dim = 'acceleration_T')\n",
    "            ds.to_netcdf(f'/Users/mdemol/code/PhD/insitu_drifters_trajectories/diagnostic_synth_traj/3D_variational/3D_variational_{acca}_{p}_{acct}.nc')\n",
    "            print('ok')"
   ]
  },
  {
   "cell_type": "code",
   "execution_count": null,
   "id": "5c0a190d-df49-4ce7-a8cd-69702a08b1ef",
   "metadata": {},
   "outputs": [],
   "source": []
  },
  {
   "cell_type": "code",
   "execution_count": null,
   "id": "76ff114a-84ad-47b2-99c8-c936767381c4",
   "metadata": {
    "tags": []
   },
   "outputs": [],
   "source": [
    "f_3D()"
   ]
  },
  {
   "cell_type": "markdown",
   "id": "02a5cb91-7005-4d19-930b-638403bc45ad",
   "metadata": {},
   "source": [
    "_________\n",
    "# 3D\n",
    "## concat and image\n"
   ]
  },
  {
   "cell_type": "code",
   "execution_count": null,
   "id": "3da24981-d8eb-4999-a224-38c62b55cc10",
   "metadata": {
    "tags": []
   },
   "outputs": [],
   "source": [
    "dir_ = '/Users/mdemol/DATA_DRIFTERS/3D_variational/3D_variational_*.nc'\n",
    "files = glob(dir_)\n",
    "files"
   ]
  },
  {
   "cell_type": "code",
   "execution_count": null,
   "id": "2a5aec2d-2e53-49f1-813d-6da1c6da6799",
   "metadata": {},
   "outputs": [],
   "source": [
    "D = []\n",
    "for f in files :\n",
    "    D.append(xr.open_dataset(f))"
   ]
  },
  {
   "cell_type": "code",
   "execution_count": null,
   "id": "c5e73ab1-7451-4f0a-ab0c-de0dd18dd91b",
   "metadata": {},
   "outputs": [],
   "source": [
    "len(files)"
   ]
  },
  {
   "cell_type": "code",
   "execution_count": null,
   "id": "d716cd58-cc83-41d0-beec-c99bb95cdee9",
   "metadata": {},
   "outputs": [],
   "source": [
    "dst_ = (dsti**2).mean('time')\n",
    "Dms = []\n",
    "for d in D :\n",
    "    Dms.append((((d-dsti)**2).mean('time')/dst_).mean('id'))"
   ]
  },
  {
   "cell_type": "code",
   "execution_count": null,
   "id": "94580140-fe67-4f20-a8a5-60adeeaee52d",
   "metadata": {},
   "outputs": [],
   "source": [
    "DMS =xr.combine_by_coords(Dms)"
   ]
  },
  {
   "cell_type": "markdown",
   "id": "2024b473-dc6d-45b3-8eaa-081300c6a539",
   "metadata": {},
   "source": [
    "_________\n",
    "# 3D\n",
    "## Plotting x, y\n"
   ]
  },
  {
   "cell_type": "code",
   "execution_count": null,
   "id": "2ed33542-0dfe-4ab3-b6ea-bc403f7e98fa",
   "metadata": {},
   "outputs": [],
   "source": [
    "np.log(DMS.x).plot(col=\"position_error\", col_wrap=4)"
   ]
  },
  {
   "cell_type": "code",
   "execution_count": null,
   "id": "b954bcf7-996a-484a-821f-061468075e50",
   "metadata": {},
   "outputs": [],
   "source": [
    "DMS.x.plot.contour?"
   ]
  },
  {
   "cell_type": "code",
   "execution_count": null,
   "id": "7b60c538-7c2c-4504-a04d-0db86043310a",
   "metadata": {},
   "outputs": [],
   "source": [
    "DMS.x.plot.contour(col=\"position_error\", col_wrap=4, levels=1000, add_colorbar=True)"
   ]
  },
  {
   "cell_type": "code",
   "execution_count": null,
   "id": "c52e2805-03f5-4927-b965-7d4392c09f56",
   "metadata": {},
   "outputs": [],
   "source": [
    "DMS.u.plot.contour(col=\"acceleration_T\", col_wrap=4, levels=500, add_colorbar=True, vmax=0.01)"
   ]
  },
  {
   "cell_type": "code",
   "execution_count": null,
   "id": "f38f4be3-5fdb-4a1a-93b1-233fc244ddb9",
   "metadata": {},
   "outputs": [],
   "source": [
    "DMS.ax.plot.contour(col=\"position_error\", col_wrap=4, levels=500, add_colorbar=True)"
   ]
  },
  {
   "cell_type": "code",
   "execution_count": null,
   "id": "bc4c9bb7-4101-4f37-bae4-6b1ca93e1537",
   "metadata": {},
   "outputs": [],
   "source": [
    "np.log(DMS.x).plot(col=\"position_error\", col_wrap=4)"
   ]
  },
  {
   "cell_type": "code",
   "execution_count": null,
   "id": "30c9f61d-6414-4948-bdda-a8d4b1eb95cb",
   "metadata": {},
   "outputs": [],
   "source": [
    "np.log(DMS.x).plot(col=\"acceleration_A\", col_wrap=4)"
   ]
  },
  {
   "cell_type": "code",
   "execution_count": null,
   "id": "5fd33b42-338d-46a7-8d9c-f1d46ee3c7f9",
   "metadata": {},
   "outputs": [],
   "source": [
    "np.log(DMS.x).plot(col=\"acceleration_T\", col_wrap=4)"
   ]
  },
  {
   "cell_type": "markdown",
   "id": "29d00711-07a5-4877-b8e3-e07634d14ff4",
   "metadata": {},
   "source": [
    "## Plotting u,v"
   ]
  },
  {
   "cell_type": "code",
   "execution_count": null,
   "id": "93952cf1-e055-4911-aefe-2ec189b4020f",
   "metadata": {},
   "outputs": [],
   "source": [
    "np.log(DMS.u).plot(col=\"position_error\", col_wrap=4)"
   ]
  },
  {
   "cell_type": "code",
   "execution_count": null,
   "id": "4294ad1b-4ac8-41a3-b56e-068accfd21ca",
   "metadata": {},
   "outputs": [],
   "source": [
    "np.log(DMS.u).plot(col=\"acceleration_A\", col_wrap=4)"
   ]
  },
  {
   "cell_type": "code",
   "execution_count": null,
   "id": "5f67ddd8-3b8c-432c-a3d0-ae3ddcf99290",
   "metadata": {},
   "outputs": [],
   "source": [
    "np.log(DMS.u).plot(col=\"acceleration_T\", col_wrap=4)"
   ]
  },
  {
   "cell_type": "markdown",
   "id": "3554c110-3f6d-46e9-992f-127aa55b32f5",
   "metadata": {},
   "source": [
    "## Plotting ax,ay"
   ]
  },
  {
   "cell_type": "code",
   "execution_count": null,
   "id": "6fd21042-9525-450b-b022-a3ad128faf5e",
   "metadata": {},
   "outputs": [],
   "source": [
    "np.log(DMS.ax).plot(col=\"position_error\", col_wrap=4)"
   ]
  },
  {
   "cell_type": "code",
   "execution_count": null,
   "id": "d864b38f-9f33-41af-afd6-f42250e11e45",
   "metadata": {},
   "outputs": [],
   "source": [
    "np.log(DMS.ax).plot(col=\"acceleration_A\", col_wrap=4)"
   ]
  },
  {
   "cell_type": "code",
   "execution_count": null,
   "id": "72afa1f5-6572-4414-8347-4b22a4b01e4a",
   "metadata": {},
   "outputs": [],
   "source": [
    "np.log(DMS.ax).plot(col=\"acceleration_T\", col_wrap=4,vmax=1)"
   ]
  },
  {
   "cell_type": "markdown",
   "id": "c35d80bc-a208-4bcb-9f5c-a0779604449a",
   "metadata": {},
   "source": [
    "# 3D plot"
   ]
  },
  {
   "cell_type": "code",
   "execution_count": null,
   "id": "f3432ce4-e5be-4a9f-8928-5aff8823d567",
   "metadata": {},
   "outputs": [],
   "source": [
    "i=0\n",
    "for v in ['x', 'y','u','v','ax','ay']:\n",
    "    DMS.plot.scatter(z=\"acceleration_T\", y=\"position_error\", x=\"acceleration_A\", hue=v, vmax=DMS[v].quantile(0.9), vmin=DMS[v].quantile(0.1))\n",
    "    DMS.where(DMS[v] ==DMS[v].min(), drop=True)[v].plot.scatter(z=\"acceleration_T\", y=\"position_error\", x=\"acceleration_A\", color='r', s=50)\n",
    "    plt.show()\n",
    "    print(DMS.where(DMS[v] ==DMS[v].min(), drop=True)[v])"
   ]
  },
  {
   "cell_type": "code",
   "execution_count": null,
   "id": "b9faa338-6702-4b42-b208-14bce5364576",
   "metadata": {},
   "outputs": [],
   "source": [
    "mina"
   ]
  },
  {
   "cell_type": "code",
   "execution_count": null,
   "id": "205527cc-19bd-4b0c-b12f-4ab5bbd317df",
   "metadata": {},
   "outputs": [],
   "source": [
    "DMS['acceleration_T'] = DMS['acceleration_T'].assign_attrs(units='days', long_name =r'$\\tau_A$')\n",
    "DMS['acceleration_A'] = DMS['acceleration_A'].assign_attrs(units=r'$m.s^{-2}$', long_name =r'$\\sigma_A$')\n",
    "DMS['position_error'] = DMS['position_error'].assign_attrs(units='m', long_name =r'$\\epsilon_X$')\n",
    "DMS['ax'] = DMS['ax'].assign_attrs(units='', long_name =fr'$\\langle (ax-ax_t)^2 \\rangle / \\langle ax_t^2 \\rangle$')\n",
    "DMS['ay'] = DMS['ay'].assign_attrs(units='', long_name =fr'$\\langle (ay-ay_t)^2 \\rangle / \\langle ay_t^2 \\rangle$')"
   ]
  },
  {
   "cell_type": "markdown",
   "id": "95c4e5f8-767c-408d-9b95-4feecbf1006e",
   "metadata": {},
   "source": [
    "# acceleration minimum section"
   ]
  },
  {
   "cell_type": "code",
   "execution_count": null,
   "id": "25eb99a8-d05b-4326-8393-9d25b0466369",
   "metadata": {},
   "outputs": [],
   "source": [
    "v ='ax'\n",
    "fig, axs = plt.subplots(1,3, figsize=(14,3.5))\n",
    "axs =axs.flatten()\n",
    "mina = DMS.where(DMS[v] ==DMS[v].min(), drop=True)[v]\n",
    "ax=axs[0]\n",
    "DMS[v].sel(acceleration_A = mina.acceleration_A).plot(ax=ax)\n",
    "ax.plot(mina.position_error, mina.acceleration_T, marker='x', color='r', markersize=10)\n",
    "ax.set_title(DMS.acceleration_A.attrs['long_name'] +' = '+ str(float(mina.acceleration_A)) +' ['+DMS.acceleration_A.attrs['units']+']')\n",
    "ax=axs[1]\n",
    "DMS[v].sel(acceleration_T = mina.acceleration_T).plot(ax=ax)\n",
    "ax.plot(mina.acceleration_A, mina.position_error, marker='x', color='r', markersize=10)\n",
    "ax.set_title(DMS.acceleration_T.attrs['long_name'] +' = '+ str(float(mina.acceleration_T)) +' ['+DMS.acceleration_T.attrs['units']+']')\n",
    "ax=axs[2]\n",
    "DMS[v].sel(position_error = mina.position_error).plot(ax=ax)\n",
    "ax.plot(mina.acceleration_A, mina.acceleration_T, marker='x', color='r', markersize=10)\n",
    "ax.set_title(DMS.position_error.attrs['long_name'] +' = '+ str(float(mina.position_error)) +' ['+DMS.position_error.attrs['units']+']')\n",
    "fig.tight_layout(w_pad = 0)\n",
    "fig.savefig(os.path.join(images_dir, 'VARIATIONAL_opt_ax.png'), dpi =200, bbox_inches=\"tight\")"
   ]
  },
  {
   "cell_type": "code",
   "execution_count": null,
   "id": "2c72c987-789f-462e-964f-d0e41f134f37",
   "metadata": {},
   "outputs": [],
   "source": [
    "v ='ay'\n",
    "fig, axs = plt.subplots(1,3, figsize=(14,3.5))\n",
    "axs =axs.flatten()\n",
    "mina = DMS.where(DMS[v] ==DMS[v].min(), drop=True)[v]\n",
    "ax=axs[0]\n",
    "DMS[v].sel(acceleration_A = mina.acceleration_A).plot(ax=ax)\n",
    "ax.plot(mina.position_error, mina.acceleration_T, marker='x', color='r', markersize=10)\n",
    "ax.set_title(DMS.acceleration_A.attrs['long_name'] +' = '+ str(float(mina.acceleration_A)) +' ['+DMS.acceleration_A.attrs['units']+']')\n",
    "ax=axs[1]\n",
    "DMS[v].sel(acceleration_T = mina.acceleration_T).plot(ax=ax)\n",
    "ax.plot(mina.acceleration_A, mina.position_error, marker='x', color='r', markersize=10)\n",
    "ax.set_title(DMS.acceleration_T.attrs['long_name'] +' = '+ str(float(mina.acceleration_T)) +' ['+DMS.acceleration_T.attrs['units']+']')\n",
    "ax=axs[2]\n",
    "DMS[v].sel(position_error = mina.position_error).plot(ax=ax)\n",
    "ax.plot(mina.acceleration_A, mina.acceleration_T, marker='x', color='r', markersize=10)\n",
    "ax.set_title(DMS.position_error.attrs['long_name'] +' = '+ str(float(mina.position_error)) +' ['+DMS.position_error.attrs['units']+']')\n",
    "fig.tight_layout(w_pad=0)\n",
    "fig.savefig(os.path.join(images_dir, 'VARIATIONAL_opt_ay.png'), dpi =200, bbox_inches=\"tight\")"
   ]
  },
  {
   "cell_type": "code",
   "execution_count": null,
   "id": "fb56947f-6c4a-4653-aac2-7a5e6544f290",
   "metadata": {},
   "outputs": [],
   "source": []
  }
 ],
 "metadata": {
  "kernelspec": {
   "display_name": "Python 3 (ipykernel)",
   "language": "python",
   "name": "python3"
  },
  "language_info": {
   "codemirror_mode": {
    "name": "ipython",
    "version": 3
   },
   "file_extension": ".py",
   "mimetype": "text/x-python",
   "name": "python",
   "nbconvert_exporter": "python",
   "pygments_lexer": "ipython3",
   "version": "3.9.13"
  }
 },
 "nbformat": 4,
 "nbformat_minor": 5
}
