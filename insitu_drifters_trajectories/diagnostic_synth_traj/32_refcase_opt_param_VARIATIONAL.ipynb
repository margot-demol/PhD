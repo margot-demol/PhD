{
 "cells": [
  {
   "cell_type": "markdown",
   "id": "c750ecd2-a6f1-4ae5-8bde-5ce2431f5e1f",
   "metadata": {},
   "source": [
    "# Optimize parameters for the reference case for VARIATIONAL method\n",
    "- VARIATIONAL : "
   ]
  },
  {
   "cell_type": "code",
   "execution_count": null,
   "id": "bfa72f0b-5444-4125-9c10-ccd05d2f58dd",
   "metadata": {},
   "outputs": [],
   "source": [
    "import xarray as xr\n",
    "import pandas as pd\n",
    "import numpy as np\n",
    "\n",
    "import hvplot.xarray\n",
    "import hvplot.pandas\n",
    "\n",
    "import matplotlib.pyplot as plt\n",
    "from cycler import cycler\n",
    "\n",
    "from sstats import signals as sg\n",
    "from sstats import sigp as sigp\n",
    "from sstats import tseries as ts\n",
    "from sstats import get_cmap_colors\n",
    "\n",
    "import hvplot.xarray\n",
    "import hvplot.pandas\n",
    "import holoviews as hv\n",
    "\n",
    "import pynsitu as pyn\n",
    "import lib as lib\n",
    "from lib import KEYS, raw_dir\n",
    "import os\n",
    "from glob import glob\n",
    "\n",
    "import synthetic_traj as st\n",
    "\n",
    "from synthetic_traj import (\n",
    "    synthetic_traj,\n",
    "    noise_irregular_sampling,\n",
    "    ref_case,\n",
    "    typical_case,\n",
    ")"
   ]
  },
  {
   "cell_type": "markdown",
   "id": "5a910694-0e0e-4e18-b762-42ea6529da2d",
   "metadata": {},
   "source": [
    "___________\n",
    "# Reference case"
   ]
  },
  {
   "cell_type": "code",
   "execution_count": null,
   "id": "8010d738-72c2-437b-968c-7a5503b52a25",
   "metadata": {},
   "outputs": [],
   "source": [
    "N = 20\n",
    "acc_cut = 1\n",
    "position_noise = 20\n",
    "ntype = \"white_noise\"\n",
    "offset_type = \"svp_scripps_10\"\n",
    "dt_smooth = \"30min\"\n",
    "true_key = \"True_\" + dt_smooth\n",
    "spectral_diff = False\n",
    "ref_case[\"spectral_diff\"] = spectral_diff\n",
    "print(ref_case)"
   ]
  },
  {
   "cell_type": "code",
   "execution_count": null,
   "id": "14147755-855e-480c-81ff-8d6c99338aea",
   "metadata": {},
   "outputs": [],
   "source": [
    "DF = dict()\n",
    "\n",
    "# TRUE\n",
    "t = (\n",
    "    50,\n",
    "    \"1min\",\n",
    ")  # use it instead of (50, 1/24/60 because otherwise not regularly sampled\n",
    "dst = synthetic_traj(t, N, **ref_case)  # u,v, ax, ay computed\n",
    "dft = st.dataset2dataframe(dst).rename(columns={\"draw\": \"id\"})\n",
    "DF[\"True_1min\"] = dft\n",
    "\n",
    "# OBSERVED\n",
    "\n",
    "dso = noise_irregular_sampling(\n",
    "    dst, t, position_noise, ntype=ntype, offset_type=offset_type, istart=4067\n",
    ")\n",
    "dfo = st.dataset2dataframe(dso).rename(columns={\"draw\": \"id\"})\n",
    "dfo = dfo.groupby(\"id\").apply(pyn.geo.compute_dt, time=\"index\")\n",
    "\n",
    "DF[\"Observed\"] = dfo\n",
    "\n",
    "# Interpolated True\n",
    "dsti = dst.interp(time=pd.date_range(dfo.index.min(), dfo.index.max(), freq=dt_smooth))\n",
    "dsti[\"dt\"] = dsti.time.diff(\"time\") / pd.Timedelta(\"1s\")\n",
    "dfti = st.dataset2dataframe(dsti).rename(columns={\"draw\": \"id\"})\n",
    "dsti = dsti.rename({\"draw\": \"id\"})\n",
    "\n",
    "DF[\"True_\" + dt_smooth] = dfti"
   ]
  },
  {
   "cell_type": "markdown",
   "id": "a580f045-6438-4c03-8d37-d4318cd14552",
   "metadata": {},
   "source": [
    "___________\n",
    "# VARIATIONAL\n",
    "Parameters : \n",
    "- acc_cut\n",
    "- position_error = 20m\n",
    "- acceleration_amplitude = 1e-5 > 5e-5\n",
    "- acceleration_T in seconds = 5.5 ~T du synthetic traj ?\n",
    "- time_chunk\n",
    "\n"
   ]
  },
  {
   "cell_type": "code",
   "execution_count": null,
   "id": "ae219d37-fddc-4c65-bba8-47b2bdfb740e",
   "metadata": {},
   "outputs": [],
   "source": [
    "np.sqrt((dst.ax**2).mean(\"draw\").mean())"
   ]
  },
  {
   "cell_type": "code",
   "execution_count": null,
   "id": "9bcd5a8f-c4e6-45a3-93b5-7cbc62ae8578",
   "metadata": {},
   "outputs": [],
   "source": [
    "np.sqrt((dst.ay**2).mean(\"draw\").mean())"
   ]
  },
  {
   "cell_type": "code",
   "execution_count": null,
   "id": "1faa8f83-b34a-4c27-8a15-288ffee3feab",
   "metadata": {},
   "outputs": [],
   "source": [
    "acc_cut = 1\n",
    "position_error = position_noise\n",
    "acceleration_amplitude = 1e-5\n",
    "acceleration_T = 5.5 * 86400\n",
    "time_chunk = 2"
   ]
  },
  {
   "cell_type": "code",
   "execution_count": null,
   "id": "f48451f1-3022-4586-9f94-5c7a0cebc01d",
   "metadata": {},
   "outputs": [],
   "source": [
    "DF.keys()"
   ]
  },
  {
   "cell_type": "markdown",
   "id": "782b64d4-2c46-4563-a205-618eb3cf2403",
   "metadata": {},
   "source": [
    "___________\n",
    "# Acc_cut"
   ]
  },
  {
   "cell_type": "code",
   "execution_count": null,
   "id": "b89d59ee-d806-4cd4-9a7a-bd9782ce4da9",
   "metadata": {
    "tags": []
   },
   "outputs": [],
   "source": [
    "acc_cut_l = np.sort(\n",
    "    [2e-4, 3e-4, 4e-4, 1e-6, 5e-6, 1e-5, 5e-5, 1e-4, 2e-4, 3e-4, 5e-4, 1e-3]\n",
    ")  # enp.linspace(1e-6, 1e-3, 10)\n",
    "# DF0 = DF.copy()\n",
    "# SMOOTHED\n",
    "for accc in acc_cut_l:\n",
    "    dfv = pyn.drifters.smooth_all(\n",
    "        dfo,\n",
    "        \"variational\",\n",
    "        dt_smooth,\n",
    "        parameters=dict(\n",
    "            acc_cut=accc,\n",
    "            position_error=position_error,\n",
    "            acceleration_amplitude=acceleration_amplitude,\n",
    "            acceleration_T=acceleration_T,\n",
    "            time_chunk=time_chunk,\n",
    "            acc_cut_key=(\"ax\", \"ay\", \"Axy\"),\n",
    "        ),\n",
    "        spectral_diff=spectral_diff,\n",
    "        geo=False,\n",
    "    )\n",
    "    DF0[f\"acc_cut ={accc}\"] = dfv\n",
    "DF0.keys()"
   ]
  },
  {
   "cell_type": "code",
   "execution_count": null,
   "id": "6084cc14-3c52-4003-b6c3-99a9f63e5029",
   "metadata": {},
   "outputs": [],
   "source": [
    "d = 0\n",
    "st.hvplot_DF(DF0, d, [\"x\", \"y\", \"u\", \"v\", \"ax\", \"ay\"])"
   ]
  },
  {
   "cell_type": "code",
   "execution_count": null,
   "id": "e36c0f41-1e04-4432-9cac-5e3925f5d02e",
   "metadata": {
    "tags": []
   },
   "outputs": [],
   "source": [
    "dfms, dse = st.diagnostics(DF0, true_key=\"True_30min\", num=True, param_name=\"acc_cut\")"
   ]
  },
  {
   "cell_type": "markdown",
   "id": "aab2d831-230f-41f7-96d6-48f133832ff5",
   "metadata": {},
   "source": [
    "___________\n",
    "# Position error"
   ]
  },
  {
   "cell_type": "code",
   "execution_count": null,
   "id": "f4b9bf9d-6811-470b-a6ed-2df721a36b86",
   "metadata": {
    "tags": []
   },
   "outputs": [],
   "source": [
    "position_error_l = np.arange(5, 50, 5)\n",
    "DF1 = DF.copy()\n",
    "# SMOOTHED\n",
    "for p in position_error_l:\n",
    "    dfv = pyn.drifters.smooth_all(\n",
    "        dfo,\n",
    "        \"variational\",\n",
    "        dt_smooth,\n",
    "        parameters=dict(\n",
    "            acc_cut=acc_cut,\n",
    "            position_error=p,\n",
    "            acceleration_amplitude=acceleration_amplitude,\n",
    "            acceleration_T=acceleration_T,\n",
    "            acc_cut_key=(\"ax\", \"ay\", \"Axy\"),\n",
    "        ),\n",
    "        spectral_diff=spectral_diff,\n",
    "        geo=False,\n",
    "    )\n",
    "    DF1[f\"position_error ={p}\"] = dfv\n",
    "DF1.keys()"
   ]
  },
  {
   "cell_type": "code",
   "execution_count": null,
   "id": "9bda85fe-6d7d-412c-933f-a1aab1cfd30f",
   "metadata": {},
   "outputs": [],
   "source": [
    "DF1.keys()"
   ]
  },
  {
   "cell_type": "code",
   "execution_count": null,
   "id": "f5864462-8b79-4514-9e21-c644f4b86fa5",
   "metadata": {
    "tags": []
   },
   "outputs": [],
   "source": [
    "d = 0\n",
    "st.hvplot_DF(DF1, d, [\"x\", \"y\", \"u\", \"v\", \"ax\", \"ay\"])"
   ]
  },
  {
   "cell_type": "code",
   "execution_count": null,
   "id": "c927c241-f68d-4ba5-acfa-1883e4dbfb41",
   "metadata": {
    "tags": []
   },
   "outputs": [],
   "source": [
    "DF1.pop(\"True_1min\")\n",
    "dfms = st.diagnostics(DF1, true_key=\"True_30min\", num=True, param_name=\"position_error\")"
   ]
  },
  {
   "cell_type": "code",
   "execution_count": null,
   "id": "2ebfa726-6b98-4028-bbdf-a523ba84cc8b",
   "metadata": {},
   "outputs": [],
   "source": [
    "DSE = st.spectrum_DF(DF1, nperseg=\"20D\", detrend=\"linear\")\n",
    "dse = st.DSE2dse(DSE)\n",
    "dsen, dsep = st.negpos_spectra(dse)\n",
    "\n",
    "\n",
    "fig4, axs = plt.subplots(1, 3, figsize=(10, 5))\n",
    "\n",
    "for l in dsen.Trajectory:\n",
    "    dsen.x_y.mean(\"id\").plot(hue=\"Trajectory\", ax=axs[0], add_legend=True, lw=1)\n",
    "    dsen.u_v.mean(\"id\").plot(hue=\"Trajectory\", ax=axs[1], add_legend=False, lw=1)\n",
    "    dsen.ax_ay.mean(\"id\").plot(hue=\"Trajectory\", ax=axs[2], add_legend=False, lw=1)\n",
    "for ax in axs:\n",
    "    ax.grid()\n",
    "    ax.set_xscale(\"log\")\n",
    "    ax.set_yscale(\"log\")\n",
    "fig4.suptitle(\"PSD\")\n",
    "fig4.tight_layout()\n",
    "\n",
    "fig4, axs = plt.subplots(1, 3, figsize=(10, 5))\n",
    "\n",
    "for l in dsep.Trajectory:\n",
    "    dsep.x_y.mean(\"id\").plot(hue=\"Trajectory\", ax=axs[0], add_legend=True, lw=1)\n",
    "    dsep.u_v.mean(\"id\").plot(hue=\"Trajectory\", ax=axs[1], add_legend=False, lw=1)\n",
    "    dsep.ax_ay.mean(\"id\").plot(hue=\"Trajectory\", ax=axs[2], add_legend=False, lw=1)\n",
    "for ax in axs:\n",
    "    ax.grid()\n",
    "    ax.set_xscale(\"log\")\n",
    "    ax.set_yscale(\"log\")\n",
    "fig4.suptitle(\"PSD\")\n",
    "fig4.tight_layout()"
   ]
  },
  {
   "cell_type": "markdown",
   "id": "49bca85d-542f-4bdb-a104-271727b665e2",
   "metadata": {},
   "source": [
    "___________\n",
    "# Acceleration amplitude"
   ]
  },
  {
   "cell_type": "code",
   "execution_count": null,
   "id": "aabbc3cc-06b9-4ee9-90b2-348204452cdc",
   "metadata": {
    "tags": []
   },
   "outputs": [],
   "source": [
    "acceleration_amplitude_l = [\n",
    "    0.4e-5,\n",
    "    0.5e-5,\n",
    "    0.75e-5,\n",
    "    1e-5,\n",
    "    1.25e-5,\n",
    "    1.5e-5,\n",
    "    1.9e-5,\n",
    "]  # np.arange(1e-5,4e-5, 2e-6)\n",
    "DF2 = DF.copy()\n",
    "# SMOOTHED\n",
    "for aca in acceleration_amplitude_l:\n",
    "    dfv = pyn.drifters.smooth_all(\n",
    "        dfo,\n",
    "        \"variational\",\n",
    "        dt_smooth,\n",
    "        parameters=dict(\n",
    "            acc_cut=acc_cut,\n",
    "            position_error=position_error,\n",
    "            acceleration_amplitude=aca,\n",
    "            acceleration_T=acceleration_T,\n",
    "            acc_cut_key=(\"ax\", \"ay\", \"Axy\"),\n",
    "        ),\n",
    "        spectral_diff=spectral_diff,\n",
    "        geo=False,\n",
    "    )\n",
    "    DF2[f\"acceleration_amplitude ={aca}\"] = dfv\n",
    "DF2.keys()"
   ]
  },
  {
   "cell_type": "code",
   "execution_count": null,
   "id": "8630e231-4a0c-438e-a801-b3fe21cecd34",
   "metadata": {
    "tags": []
   },
   "outputs": [],
   "source": [
    "d = 0\n",
    "st.hvplot_DF(DF2, d, [\"x\", \"y\", \"u\", \"v\", \"ax\", \"ay\"])"
   ]
  },
  {
   "cell_type": "code",
   "execution_count": null,
   "id": "c601d204-4ef6-40bc-a013-f41c1d21e620",
   "metadata": {
    "tags": []
   },
   "outputs": [],
   "source": [
    "DF2.pop(\"True_1min\")\n",
    "dfms = st.diagnostics(\n",
    "    DF2, true_key=\"True_30min\", num=True, param_name=\"acceleration_amplitude\"\n",
    ")"
   ]
  },
  {
   "cell_type": "code",
   "execution_count": null,
   "id": "9897c5dc-7456-4d0d-8f83-923f1d539fb6",
   "metadata": {},
   "outputs": [],
   "source": [
    "DSE = st.spectrum_DF(DF2, nperseg=\"20D\", detrend=\"linear\")\n",
    "dse = st.DSE2dse(DSE)\n",
    "dsen, dsep = st.negpos_spectra(dse)\n",
    "\n",
    "\n",
    "fig4, axs = plt.subplots(1, 3, figsize=(10, 5))\n",
    "\n",
    "for l in dsen.Trajectory:\n",
    "    dsen.x_y.mean(\"id\").plot(hue=\"Trajectory\", ax=axs[0], add_legend=True, lw=1)\n",
    "    dsen.u_v.mean(\"id\").plot(hue=\"Trajectory\", ax=axs[1], add_legend=False, lw=1)\n",
    "    dsen.ax_ay.mean(\"id\").plot(hue=\"Trajectory\", ax=axs[2], add_legend=False, lw=1)\n",
    "for ax in axs:\n",
    "    ax.grid()\n",
    "    ax.set_xscale(\"log\")\n",
    "    ax.set_yscale(\"log\")\n",
    "fig4.suptitle(\"PSD\")\n",
    "fig4.tight_layout()\n",
    "\n",
    "fig4, axs = plt.subplots(1, 3, figsize=(10, 5))\n",
    "\n",
    "for l in dsep.Trajectory:\n",
    "    dsep.x_y.mean(\"id\").plot(hue=\"Trajectory\", ax=axs[0], add_legend=True, lw=1)\n",
    "    dsep.u_v.mean(\"id\").plot(hue=\"Trajectory\", ax=axs[1], add_legend=False, lw=1)\n",
    "    dsep.ax_ay.mean(\"id\").plot(hue=\"Trajectory\", ax=axs[2], add_legend=False, lw=1)\n",
    "for ax in axs:\n",
    "    ax.grid()\n",
    "    ax.set_xscale(\"log\")\n",
    "    ax.set_yscale(\"log\")\n",
    "fig4.suptitle(\"PSD\")\n",
    "fig4.tight_layout()"
   ]
  },
  {
   "cell_type": "markdown",
   "id": "c4d803d6-37ef-42f0-b48f-d8bb733b955d",
   "metadata": {},
   "source": [
    "___________\n",
    "# Acceleration T"
   ]
  },
  {
   "cell_type": "code",
   "execution_count": null,
   "id": "388b879e-1313-48c7-be79-e683db56f483",
   "metadata": {
    "tags": []
   },
   "outputs": [],
   "source": [
    "acceleration_T_l = np.array([4, 4.5, 5, 5.5, 6, 7, 8]) * 86400\n",
    "DF3 = DF.copy()\n",
    "# SMOOTHED\n",
    "for aca in acceleration_T_l:\n",
    "    dfv = pyn.drifters.smooth_all(\n",
    "        dfo,\n",
    "        \"variational\",\n",
    "        dt_smooth,\n",
    "        parameters=dict(\n",
    "            acc_cut=acc_cut,\n",
    "            position_error=position_error,\n",
    "            acceleration_amplitude=acceleration_amplitude,\n",
    "            acceleration_T=aca,\n",
    "            acc_cut_key=(\"ax\", \"ay\", \"Axy\"),\n",
    "        ),\n",
    "        spectral_diff=spectral_diff,\n",
    "        geo=False,\n",
    "    )\n",
    "    DF3[f\"acceleration_T ={aca}\"] = dfv\n",
    "DF3.keys()"
   ]
  },
  {
   "cell_type": "code",
   "execution_count": null,
   "id": "fd32daf4-d92c-44c0-bfa5-b409deb9af0d",
   "metadata": {
    "tags": []
   },
   "outputs": [],
   "source": [
    "d = 0\n",
    "st.hvplot_DF(DF3, d, [\"x\", \"y\", \"u\", \"v\", \"ax\", \"ay\"])"
   ]
  },
  {
   "cell_type": "code",
   "execution_count": null,
   "id": "3059aed3-ea76-420d-ad42-184ee16cf442",
   "metadata": {
    "tags": []
   },
   "outputs": [],
   "source": [
    "DF3.pop(\"True_1min\")\n",
    "dfms = st.diagnostics(DF3, true_key=true_key, num=True, param_name=\"acceleration_T\")"
   ]
  },
  {
   "cell_type": "code",
   "execution_count": null,
   "id": "1fbc70e5-3e1d-4267-9e86-c2a1aa566b87",
   "metadata": {},
   "outputs": [],
   "source": [
    "DSE = st.spectrum_DF(DF3, nperseg=\"20D\", detrend=\"linear\")\n",
    "dse = st.DSE2dse(DSE)\n",
    "dsen, dsep = st.negpos_spectra(dse)\n",
    "\n",
    "\n",
    "fig4, axs = plt.subplots(1, 3, figsize=(10, 5))\n",
    "\n",
    "for l in dsen.Trajectory:\n",
    "    dsen.x_y.mean(\"id\").plot(hue=\"Trajectory\", ax=axs[0], add_legend=True, lw=0.5)\n",
    "    dsen.u_v.mean(\"id\").plot(hue=\"Trajectory\", ax=axs[1], add_legend=False, lw=0.5)\n",
    "    dsen.ax_ay.mean(\"id\").plot(hue=\"Trajectory\", ax=axs[2], add_legend=False, lw=0.5)\n",
    "for ax in axs:\n",
    "    ax.grid()\n",
    "    ax.set_xscale(\"log\")\n",
    "    ax.set_yscale(\"log\")\n",
    "fig4.suptitle(\"PSD\")\n",
    "fig4.tight_layout()\n",
    "\n",
    "fig4, axs = plt.subplots(1, 3, figsize=(10, 5))\n",
    "\n",
    "for l in dsep.Trajectory:\n",
    "    dsep.x_y.mean(\"id\").plot(hue=\"Trajectory\", ax=axs[0], add_legend=True, lw=0.5)\n",
    "    dsep.u_v.mean(\"id\").plot(hue=\"Trajectory\", ax=axs[1], add_legend=False, lw=0.5)\n",
    "    dsep.ax_ay.mean(\"id\").plot(hue=\"Trajectory\", ax=axs[2], add_legend=False, lw=0.5)\n",
    "for ax in axs:\n",
    "    ax.grid()\n",
    "    ax.set_xscale(\"log\")\n",
    "    ax.set_yscale(\"log\")\n",
    "fig4.suptitle(\"PSD\")\n",
    "fig4.tight_layout()"
   ]
  },
  {
   "cell_type": "markdown",
   "id": "85465c65-83eb-4b44-8f41-d3c5ae3b58f0",
   "metadata": {},
   "source": [
    "_________\n",
    "# 2D acceleration_T -aceeleration_amplitude\n",
    "## Compute $ \\frac{\\langle(\\alpha-\\alpha_t)^2\\rangle}{\\langle \\alpha_t^2 \\rangle} $ \n",
    " Pour acceleration amplitude = [1e-06,3e-06,5e-06,1.5e-05,2.5e-05,3.5e-05,4.5e-05,5.5e-05,6.5e-05,7.5e-05, 8.5e-05,9.5e-05]  \n",
    " \n",
    " Pour acceleration_T = np.arange(0.5,10)\n",
    " \n",
    "Pour x,y rapport des variances [%] : entre (1.056e-4,1.852e-4) et (1.895e-4, 3.341e-4)-> rapport presque x2 mais reste autour de 10-4 % \n",
    "    minimun (2.5, 5e-06 , 0.5, 3e-06)  \n",
    "Pour u,v rapport des variances [%] : entre (1.754e-1, 1.743e-1) et (8.43e-1, 9.652e-1) -> rapport presque x5 mais reste autour de 10-1%\n",
    "    minimum (1.5 5e-06, 0.5 3e-06)  \n",
    "Pour ax,ay rapport des variances [%] : entre (72.91,73.72) et (246.5, 260.5)-> 70% minimum à 260%\n",
    "    minimum (1.5 5e-06, 2.5 5e-06)"
   ]
  },
  {
   "cell_type": "code",
   "execution_count": null,
   "id": "84708b1f-feb4-46e0-9956-85799019eeb0",
   "metadata": {
    "tags": []
   },
   "outputs": [],
   "source": [
    "acc_A = [0.1e-5, 0.2e-5, 0.3e-5, 0.4e-5] + list(np.arange(0.5, 10) * 1e-5)\n",
    "acc_T = [0.05, 0.1, 0.25] + list(np.arange(0.5, 10))\n",
    "\n",
    "DSV = []\n",
    "for acca in acc_A:\n",
    "    DSV_ = []\n",
    "    for acct in acc_T:\n",
    "        dfv = pyn.drifters.smooth_all(\n",
    "            dfo,\n",
    "            \"variational\",\n",
    "            dt_smooth,\n",
    "            parameters=dict(\n",
    "                acc_cut=acc_cut,\n",
    "                position_error=position_error,\n",
    "                acceleration_amplitude=acca,\n",
    "                acceleration_T=acct * 86400,\n",
    "                acc_cut_key=(\"ax\", \"ay\", \"Axy\"),\n",
    "            ),\n",
    "            spectral_diff=spectral_diff,\n",
    "            geo=False,\n",
    "        )\n",
    "        dfv = dfv.reset_index().set_index([\"time\", \"id\"])\n",
    "        dsv = dfv.to_xarray()\n",
    "        DSV_.append(dsv)\n",
    "\n",
    "    DSV.append(xr.concat(DSV_, dim=acc_T).rename({\"concat_dim\": \"acceleration_T\"}))\n",
    "ds = xr.concat(DSV, dim=acc_A).rename({\"concat_dim\": \"acceleration_amplitude\"})"
   ]
  },
  {
   "cell_type": "code",
   "execution_count": null,
   "id": "ed252d50-6ff3-422b-96e9-4d376caec9f9",
   "metadata": {},
   "outputs": [],
   "source": [
    "dsvar = (((ds - dsti).var(\"time\")) / (dsti.var(\"time\"))).mean(\"id\")"
   ]
  },
  {
   "cell_type": "code",
   "execution_count": null,
   "id": "efcaff09-6463-4171-9589-180e3941231a",
   "metadata": {},
   "outputs": [],
   "source": [
    "dsvar.max() * 100"
   ]
  },
  {
   "cell_type": "code",
   "execution_count": null,
   "id": "9e30c5d2-e2f0-4699-9d8c-7dd23b7f8173",
   "metadata": {},
   "outputs": [],
   "source": [
    "dsvar.min() * 100"
   ]
  },
  {
   "cell_type": "code",
   "execution_count": null,
   "id": "02dcd07c-6081-4c46-8906-51056e4b93aa",
   "metadata": {},
   "outputs": [],
   "source": [
    "fig, axs = plt.subplots(3, 3, figsize=(10, 7))\n",
    "axs = axs.flatten()\n",
    "np.log(dsvar.x).plot(ax=axs[0])\n",
    "np.log(dsvar.y).plot(ax=axs[1])\n",
    "np.log(dsvar.X).plot(ax=axs[2])\n",
    "np.log(dsvar.u).plot(ax=axs[3])\n",
    "np.log(dsvar.U).plot(ax=axs[4])\n",
    "np.log(dsvar.v).plot(ax=axs[5])\n",
    "np.log(dsvar.ax).plot(ax=axs[6])\n",
    "np.log(dsvar.ay).plot(ax=axs[7])\n",
    "np.log(dsvar.Axy).plot(ax=axs[8])\n",
    "fig.tight_layout()"
   ]
  },
  {
   "cell_type": "code",
   "execution_count": null,
   "id": "2fdbc617-7330-40da-9274-d1e31e206fe7",
   "metadata": {},
   "outputs": [],
   "source": [
    "for v in [\"x\", \"y\", \"X\", \"u\", \"v\", \"U\", \"ax\", \"ay\", \"Axy\"]:\n",
    "    idx = dsvar[v].argmin(dim=[\"acceleration_T\", \"acceleration_amplitude\"])\n",
    "    print(v)\n",
    "    print(\n",
    "        float(dsvar.acceleration_T[idx[\"acceleration_T\"]].values),\n",
    "        float(dsvar.acceleration_amplitude[idx[\"acceleration_amplitude\"]].values),\n",
    "        float(dsvar[v].min().values),\n",
    "    )"
   ]
  },
  {
   "cell_type": "markdown",
   "id": "723f922c-ce3d-4e2d-9d41-b2f45572f306",
   "metadata": {},
   "source": [
    "_________\n",
    "# 2D acceleration_A - position_error\n"
   ]
  },
  {
   "cell_type": "code",
   "execution_count": null,
   "id": "84c28b9d-954d-4a30-ab93-371adef3ac26",
   "metadata": {
    "tags": []
   },
   "outputs": [],
   "source": [
    "acc_A = [0.1e-5, 0.2e-5, 0.3e-5, 0.4e-5] + list(np.arange(0.5, 10) * 1e-5)\n",
    "pos_e = [5, 10, 20, 50, 60, 70, 80, 90, 100]\n",
    "acct = 1.5\n",
    "\n",
    "DSV = []\n",
    "for acca in acc_A:\n",
    "    DSV_ = []\n",
    "    for p in pos_e:\n",
    "        dfv = pyn.drifters.smooth_all(\n",
    "            dfo,\n",
    "            \"variational\",\n",
    "            dt_smooth,\n",
    "            parameters=dict(\n",
    "                acc_cut=acc_cut,\n",
    "                position_error=p,\n",
    "                acceleration_amplitude=acca,\n",
    "                acceleration_T=acct * 86400,\n",
    "                acc_cut_key=(\"ax\", \"ay\", \"Axy\"),\n",
    "            ),\n",
    "            spectral_diff=spectral_diff,\n",
    "            geo=False,\n",
    "        )\n",
    "        dfv = dfv.reset_index().set_index([\"time\", \"id\"])\n",
    "        dsv = dfv.to_xarray()\n",
    "        DSV_.append(dsv)\n",
    "\n",
    "    DSV.append(xr.concat(DSV_, dim=pos_e).rename({\"concat_dim\": \"position_error\"}))\n",
    "ds0 = xr.concat(DSV, dim=acc_A).rename({\"concat_dim\": \"acceleration_amplitude\"})"
   ]
  },
  {
   "cell_type": "code",
   "execution_count": null,
   "id": "5e771594-cff0-4f4c-82d4-b7a228c78522",
   "metadata": {},
   "outputs": [],
   "source": [
    "dsvar0 = (((ds - dsti).var(\"time\")) / (dsti.var(\"time\"))).mean(\"id\")"
   ]
  },
  {
   "cell_type": "code",
   "execution_count": null,
   "id": "2a258cc7-2bef-47ec-b306-931f4aa3b00d",
   "metadata": {},
   "outputs": [],
   "source": [
    "dsvar0.max() * 100"
   ]
  },
  {
   "cell_type": "code",
   "execution_count": null,
   "id": "091bd111-cfa3-46c9-9beb-8fb6fb7edc98",
   "metadata": {},
   "outputs": [],
   "source": [
    "dsvar.min() * 100"
   ]
  },
  {
   "cell_type": "code",
   "execution_count": null,
   "id": "273e9b05-0c86-4b0a-8419-c177994d2380",
   "metadata": {},
   "outputs": [],
   "source": [
    "dsvar00 = dsvar0.where(dsvar0.position_error < 200, drop=True)"
   ]
  },
  {
   "cell_type": "code",
   "execution_count": null,
   "id": "d1b5da19-876a-4537-9e36-8400b7563217",
   "metadata": {},
   "outputs": [],
   "source": [
    "fig, axs = plt.subplots(3, 3, figsize=(10, 7))\n",
    "axs = axs.flatten()\n",
    "np.log(dsvar00.x).plot(ax=axs[0])\n",
    "np.log(dsvar00.y).plot(ax=axs[1])\n",
    "np.log(dsvar00.X).plot(ax=axs[2])\n",
    "np.log(dsvar00.u).plot(ax=axs[3])\n",
    "np.log(dsvar00.U).plot(ax=axs[4])\n",
    "np.log(dsvar00.v).plot(ax=axs[5])\n",
    "np.log(dsvar00.ax).plot(ax=axs[6])\n",
    "np.log(dsvar00.ay).plot(ax=axs[7])\n",
    "np.log(dsvar00.Axy).plot(ax=axs[8])\n",
    "fig.tight_layout()"
   ]
  },
  {
   "cell_type": "code",
   "execution_count": null,
   "id": "dbfe5b1b-fdb2-40c2-bc32-0284f4ee9534",
   "metadata": {},
   "outputs": [],
   "source": [
    "for v in [\"x\", \"y\", \"X\", \"u\", \"v\", \"U\", \"ax\", \"ay\", \"Axy\"]:\n",
    "    idx = dsvar0[v].argmin(dim=[\"position_error\", \"acceleration_amplitude\"])\n",
    "    print(v)\n",
    "    print(\n",
    "        float(dsvar0.position_error[idx[\"position_error\"]].values),\n",
    "        float(dsvar0.acceleration_amplitude[idx[\"acceleration_amplitude\"]].values),\n",
    "        float(dsvar0[v].min().values),\n",
    "    )"
   ]
  },
  {
   "cell_type": "markdown",
   "id": "0a4f6151-4fae-4062-a3e1-b7a76e871448",
   "metadata": {},
   "source": [
    "_________\n",
    "# 2D acceleration_T - position_error\n"
   ]
  },
  {
   "cell_type": "code",
   "execution_count": null,
   "id": "29893fee-ff08-400e-9240-3eea53fa71be",
   "metadata": {
    "tags": []
   },
   "outputs": [],
   "source": [
    "acca = 0.2e-5\n",
    "pos_e = [5, 10, 20, 40, 60, 80, 100]\n",
    "acc_T = [0.05, 0.1, 0.25] + list(np.arange(0.5, 10))\n",
    "\n",
    "DSV = []\n",
    "for acct in acc_T:\n",
    "    DSV_ = []\n",
    "    for p in pos_e:\n",
    "        dfv = pyn.drifters.smooth_all(\n",
    "            dfo,\n",
    "            \"variational\",\n",
    "            dt_smooth,\n",
    "            parameters=dict(\n",
    "                acc_cut=acc_cut,\n",
    "                position_error=p,\n",
    "                acceleration_amplitude=acca,\n",
    "                acceleration_T=acct * 86400,\n",
    "                acc_cut_key=(\"ax\", \"ay\", \"Axy\"),\n",
    "            ),\n",
    "            spectral_diff=spectral_diff,\n",
    "            geo=False,\n",
    "        )\n",
    "        dfv = dfv.reset_index().set_index([\"time\", \"id\"])\n",
    "        dsv = dfv.to_xarray()\n",
    "        DSV_.append(dsv)\n",
    "\n",
    "    DSV.append(xr.concat(DSV_, dim=pos_e).rename({\"concat_dim\": \"position_error\"}))\n",
    "ds1 = xr.concat(DSV, dim=acc_T).rename({\"concat_dim\": \"acceleration_T\"})"
   ]
  },
  {
   "cell_type": "code",
   "execution_count": null,
   "id": "96558e5f-d02a-4423-8209-ee92e8c44145",
   "metadata": {},
   "outputs": [],
   "source": [
    "dsvar1 = (((ds0 - dsti).var(\"time\")) / (dsti.var(\"time\"))).mean(\"id\")"
   ]
  },
  {
   "cell_type": "code",
   "execution_count": null,
   "id": "e0fe4792-ebf9-497f-8373-19dcd1dfacf0",
   "metadata": {},
   "outputs": [],
   "source": [
    "dsvar1.max() * 100"
   ]
  },
  {
   "cell_type": "code",
   "execution_count": null,
   "id": "1135a01d-cab6-4fec-96e9-34b9f6f8807f",
   "metadata": {},
   "outputs": [],
   "source": [
    "dsvar1.min() * 100"
   ]
  },
  {
   "cell_type": "code",
   "execution_count": null,
   "id": "08a2399d-0981-4337-9e2a-5cfc77c8519c",
   "metadata": {},
   "outputs": [],
   "source": [
    "fig, axs = plt.subplots(3, 3, figsize=(10, 7))\n",
    "axs = axs.flatten()\n",
    "i = 0\n",
    "for v in [\"x\", \"y\", \"X\", \"u\", \"v\", \"U\", \"ax\", \"ay\", \"Axy\"]:\n",
    "    np.log(dsvar1[v]).plot(ax=axs[i])\n",
    "    i += 1\n",
    "fig.tight_layout()"
   ]
  },
  {
   "cell_type": "code",
   "execution_count": null,
   "id": "7dc02136-20ad-4d0a-996b-91551ca5b073",
   "metadata": {},
   "outputs": [],
   "source": [
    "for v in [\"x\", \"y\", \"X\", \"u\", \"v\", \"U\", \"ax\", \"ay\", \"Axy\"]:\n",
    "    idx = dsvar1[v].argmin(dim=[\"position_error\", \"acceleration_T\"])\n",
    "    print(v)\n",
    "    print(\n",
    "        float(dsvar1.position_error[idx[\"position_error\"]].values),\n",
    "        float(dsvar1.acceleration_T[idx[\"acceleration_T\"]].values),\n",
    "        float(dsvar1[v].min().values),\n",
    "    )"
   ]
  },
  {
   "cell_type": "markdown",
   "id": "988446ea-c2ef-4ee5-bbd6-dcd9c3010753",
   "metadata": {},
   "source": [
    "_________\n",
    "# 3D\n",
    "## Compute $ \\frac{\\langle(\\alpha-\\alpha_t)^2\\rangle}{\\langle \\alpha_t^2 \\rangle} $ \n"
   ]
  },
  {
   "cell_type": "code",
   "execution_count": null,
   "id": "dffcc414-12cd-4259-b77f-abe9da8038b0",
   "metadata": {
    "tags": []
   },
   "outputs": [],
   "source": [
    "acc_A = [0.1e-5, 0.2e-5, 0.3e-5, 0.4e-5] + list(np.arange(0.5, 10) * 1e-5)\n",
    "pos_e = [5, 10, 20, 40, 60, 80, 100]\n",
    "acc_T = [0.05, 0.1, 0.25] + list(np.arange(0.5, 10))\n",
    "\n",
    "\n",
    "def f_3D():\n",
    "    DSV = []\n",
    "    for acca in acc_A:\n",
    "        DSV_ = []\n",
    "        for p in pos_e:\n",
    "            DSV__ = []\n",
    "            for acct in acc_T:\n",
    "                dfv = pyn.drifters.smooth_all(\n",
    "                    dfo,\n",
    "                    \"variational\",\n",
    "                    dt_smooth,\n",
    "                    parameters=dict(\n",
    "                        acc_cut=acc_cut,\n",
    "                        position_error=p,\n",
    "                        acceleration_amplitude=acca,\n",
    "                        acceleration_T=acct * 86400,\n",
    "                        acc_cut_key=(\"ax\", \"ay\", \"Axy\"),\n",
    "                    ),\n",
    "                    spectral_diff=spectral_diff,\n",
    "                    geo=False,\n",
    "                )\n",
    "                dfv = dfv.reset_index().set_index([\"time\", \"id\"])\n",
    "                dsv = dfv.to_xarray()\n",
    "                return dsv\n",
    "                DSV__.append(dsv)\n",
    "            DSV_.append(\n",
    "                xr.concat(DSV__, dim=acc_T).rename({\"concat_dim\": \"acceleration_T\"})\n",
    "            )\n",
    "        DSV.append(xr.concat(DSV_, dim=pos_e).rename({\"concat_dim\": \"position_error\"}))\n",
    "    return xr.concat(DSV, dim=acc_A).rename({\"concat_dim\": \"acceleration_amplitude\"})\n",
    "\n",
    "\n",
    "# ds.to_netcdf('/Users/mdemol/code/PhD/insitu_drifters_trajectories/diagnostic_synth_traj/3D_variational.nc')"
   ]
  },
  {
   "cell_type": "code",
   "execution_count": null,
   "id": "ea408e57-d492-40bb-8e7e-b5f96dc2dfbe",
   "metadata": {
    "tags": []
   },
   "outputs": [],
   "source": [
    "ds = f_3D()"
   ]
  },
  {
   "cell_type": "markdown",
   "id": "b4351961-ed50-4dcc-bc0e-7356cfd528af",
   "metadata": {},
   "source": [
    "___________\n",
    "# Time_chunk"
   ]
  },
  {
   "cell_type": "code",
   "execution_count": null,
   "id": "b453280d-abc4-4ee7-8c73-0611bb7595ec",
   "metadata": {
    "tags": []
   },
   "outputs": [],
   "source": [
    "time_chunk_l = np.arange(2, 10)\n",
    "DF4 = DF.copy()\n",
    "# SMOOTHED\n",
    "for t in time_chunk_l:\n",
    "    dfv = pyn.drifters.smooth_all(\n",
    "        dfo,\n",
    "        \"variational\",\n",
    "        dt_smooth,\n",
    "        parameters=dict(\n",
    "            acc_cut=acc_cut,\n",
    "            position_error=position_error,\n",
    "            acceleration_amplitude=acceleration_amplitude,\n",
    "            acceleration_T=acceleration_T,\n",
    "            time_chunk=t,\n",
    "            acc_cut_key=(\"ax\", \"ay\", \"Axy\"),\n",
    "        ),\n",
    "        spectral_diff=spectral_diff,\n",
    "        geo=False,\n",
    "    )\n",
    "    DF4[f\"time_chunk ={t}\"] = dfv\n",
    "DF4.keys()"
   ]
  },
  {
   "cell_type": "code",
   "execution_count": null,
   "id": "8ac591e4-5d09-4872-b29f-3bed58065df7",
   "metadata": {
    "tags": []
   },
   "outputs": [],
   "source": [
    "d = 0\n",
    "st.hvplot_DF(DF4, d, [\"x\", \"y\", \"u\", \"v\", \"ax\", \"ay\"])"
   ]
  },
  {
   "cell_type": "code",
   "execution_count": null,
   "id": "186c8586-b8a2-43e4-a0b5-d4301e606986",
   "metadata": {
    "tags": []
   },
   "outputs": [],
   "source": [
    "# DF4.pop('True_1min')\n",
    "dfms = st.diagnostics(DF4, num=True, true_key=\"True_30min\", param_name=\"acceleration_T\")"
   ]
  },
  {
   "cell_type": "code",
   "execution_count": null,
   "id": "76ff114a-84ad-47b2-99c8-c936767381c4",
   "metadata": {},
   "outputs": [],
   "source": []
  }
 ],
 "metadata": {
  "kernelspec": {
   "display_name": "Python 3 (ipykernel)",
   "language": "python",
   "name": "python3"
  },
  "language_info": {
   "codemirror_mode": {
    "name": "ipython",
    "version": 3
   },
   "file_extension": ".py",
   "mimetype": "text/x-python",
   "name": "python",
   "nbconvert_exporter": "python",
   "pygments_lexer": "ipython3",
   "version": "3.9.13"
  }
 },
 "nbformat": 4,
 "nbformat_minor": 5
}
