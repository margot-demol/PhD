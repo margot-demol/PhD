{
 "cells": [
  {
   "cell_type": "markdown",
   "id": "ebb33bfd-d7e0-4db6-b1df-8ab2386de6ad",
   "metadata": {},
   "source": [
    "# TXT files for CODE drifters"
   ]
  },
  {
   "cell_type": "code",
   "execution_count": 2,
   "id": "7dfc1c06-7e60-4381-b9c4-c0bdd7d13e7a",
   "metadata": {},
   "outputs": [],
   "source": [
    "import os\n",
    "from glob import glob\n",
    "import pandas as pd"
   ]
  },
  {
   "cell_type": "code",
   "execution_count": 4,
   "id": "f614d7a6-2249-4c70-a0ae-3f81e07f0b64",
   "metadata": {},
   "outputs": [],
   "source": [
    "raw_dir = '/Users/mdemol/DATA_DRIFTERS/drifters/raw'\n",
    "id_code = ['7325']"
   ]
  },
  {
   "cell_type": "code",
   "execution_count": null,
   "id": "4fe11250-013b-4dde-8a35-4350fc185738",
   "metadata": {},
   "outputs": [],
   "source": [
    "for id_ in id_code : \n",
    "    txt = open(os.path.join(raw_dir, f'code_{id_}.txt'))\n",
    "    lines = txt.readlines()\n",
    "    columns = 'id, time, lat, lon \\n'\n",
    "    lines=lines[1:]\n",
    "    l=[i for i in lines if id_ in i]\n",
    "    l = [i.replace('\\n','') for i in l if i!='']\n",
    "    id = [li.split(' ')[0] for li in l]\n",
    "    lon = [li.split(' ')[-1] for li in l]\n",
    "    lat = [li.split(' ')[-2] for li in l]\n",
    "    dates= [i.replace('\\x0c','').replace('\\n','').split(' ')[-1] for i in lines if '2023' in i]\n",
    "    dates = [i for i in dates if i!='']\n",
    "    other = [i for i in lines if id_ not in i]\n",
    "    other = [i.replace('\\x0c','').replace('\\n','')for i in other if '2023' not in i]\n",
    "    other = [i for i in other if i!='']\n",
    "    other = [i.replace(' ','') for i in other]\n",
    "    txt_out = open(os.path.join(raw_dir, f'code_{id_}_ok.txt'), 'w')\n",
    "    txt_out.write(columns)\n",
    "    for i in range(len(id)):\n",
    "        txt_out.write(f'{id[i]}, {dates[i]} {other[i]}, {lon[i]}, {lat[i]}\\n')\n",
    "    txt_out.close()"
   ]
  },
  {
   "cell_type": "code",
   "execution_count": 38,
   "id": "7e6a3e43-7916-4dff-b166-4f989f92101c",
   "metadata": {},
   "outputs": [
    {
     "name": "stdout",
     "output_type": "stream",
     "text": [
      "7313\n",
      "7314\n",
      "7315\n",
      "7316\n",
      "7317\n",
      "7319\n",
      "7320\n",
      "7321\n",
      "7322\n"
     ]
    }
   ],
   "source": [
    "id_code = ['7313', '7314', '7315', '7316', '7317','7319', '7320', '7321', '7322',]\n",
    "for id_ in id_code : \n",
    "    txt = open(os.path.join(raw_dir, f'code_{id_}.txt'))\n",
    "    lines = txt.readlines()\n",
    "    trace = lines[2].split(' ')[2]\n",
    "    print(id_)\n",
    "    lines = [l.replace(f' Trace {trace}','') for l in lines[1:] if l !='\\n']\n",
    "    lines = [l.split(' ')[0] \n",
    "             + ', ' \n",
    "             + l.split(' ')[1] \n",
    "             + ' ' \n",
    "             +l.split(' ')[2]\n",
    "             +', '\n",
    "             +l.split(' ')[3]\n",
    "             +', '\n",
    "             +l.split(' ')[4]  for l in lines]\n",
    "    txt_out = open(os.path.join(raw_dir, f'code_{id_}_ok.txt'), 'w')\n",
    "    txt_out.writelines(lines)\n",
    "    txt_out.close()"
   ]
  },
  {
   "cell_type": "code",
   "execution_count": 32,
   "id": "83bd09f9-4eca-4acd-9167-76d483448383",
   "metadata": {},
   "outputs": [],
   "source": [
    "a = pd.read_csv(os.path.join(raw_dir, f'code_{id_}_ok.txt'))"
   ]
  },
  {
   "cell_type": "code",
   "execution_count": 33,
   "id": "cb74394f-25ed-4b96-ac48-f0e7a8f52945",
   "metadata": {},
   "outputs": [
    {
     "data": {
      "text/html": [
       "<div>\n",
       "<style scoped>\n",
       "    .dataframe tbody tr th:only-of-type {\n",
       "        vertical-align: middle;\n",
       "    }\n",
       "\n",
       "    .dataframe tbody tr th {\n",
       "        vertical-align: top;\n",
       "    }\n",
       "\n",
       "    .dataframe thead th {\n",
       "        text-align: right;\n",
       "    }\n",
       "</style>\n",
       "<table border=\"1\" class=\"dataframe\">\n",
       "  <thead>\n",
       "    <tr style=\"text-align: right;\">\n",
       "      <th></th>\n",
       "      <th>7313</th>\n",
       "      <th>2023-06-28 09:52:53</th>\n",
       "      <th>38.42895</th>\n",
       "      <th>6.00165</th>\n",
       "    </tr>\n",
       "  </thead>\n",
       "  <tbody>\n",
       "    <tr>\n",
       "      <th>0</th>\n",
       "      <td>7313</td>\n",
       "      <td>2023-06-28 09:43:19</td>\n",
       "      <td>38.43042</td>\n",
       "      <td>6.00446</td>\n",
       "    </tr>\n",
       "    <tr>\n",
       "      <th>1</th>\n",
       "      <td>7313</td>\n",
       "      <td>2023-06-28 09:32:50</td>\n",
       "      <td>38.43204</td>\n",
       "      <td>6.00759</td>\n",
       "    </tr>\n",
       "    <tr>\n",
       "      <th>2</th>\n",
       "      <td>7313</td>\n",
       "      <td>2023-06-28 09:22:47</td>\n",
       "      <td>38.43367</td>\n",
       "      <td>6.01062</td>\n",
       "    </tr>\n",
       "    <tr>\n",
       "      <th>3</th>\n",
       "      <td>7313</td>\n",
       "      <td>2023-06-28 09:12:50</td>\n",
       "      <td>38.43546</td>\n",
       "      <td>6.01375</td>\n",
       "    </tr>\n",
       "    <tr>\n",
       "      <th>4</th>\n",
       "      <td>7313</td>\n",
       "      <td>2023-06-28 09:02:53</td>\n",
       "      <td>38.43714</td>\n",
       "      <td>6.01680</td>\n",
       "    </tr>\n",
       "    <tr>\n",
       "      <th>...</th>\n",
       "      <td>...</td>\n",
       "      <td>...</td>\n",
       "      <td>...</td>\n",
       "      <td>...</td>\n",
       "    </tr>\n",
       "    <tr>\n",
       "      <th>6649</th>\n",
       "      <td>7313</td>\n",
       "      <td>2023-05-06 16:59:14</td>\n",
       "      <td>41.19205</td>\n",
       "      <td>5.16864</td>\n",
       "    </tr>\n",
       "    <tr>\n",
       "      <th>6650</th>\n",
       "      <td>7313</td>\n",
       "      <td>2023-05-06 16:49:55</td>\n",
       "      <td>41.19239</td>\n",
       "      <td>5.16617</td>\n",
       "    </tr>\n",
       "    <tr>\n",
       "      <th>6651</th>\n",
       "      <td>7313</td>\n",
       "      <td>2023-05-06 16:39:16</td>\n",
       "      <td>41.19275</td>\n",
       "      <td>5.16317</td>\n",
       "    </tr>\n",
       "    <tr>\n",
       "      <th>6652</th>\n",
       "      <td>7313</td>\n",
       "      <td>2023-05-06 16:29:15</td>\n",
       "      <td>41.19321</td>\n",
       "      <td>5.16027</td>\n",
       "    </tr>\n",
       "    <tr>\n",
       "      <th>6653</th>\n",
       "      <td>7313</td>\n",
       "      <td>2023-05-06 15:07:00</td>\n",
       "      <td>41.20005</td>\n",
       "      <td>5.08352</td>\n",
       "    </tr>\n",
       "  </tbody>\n",
       "</table>\n",
       "<p>6654 rows × 4 columns</p>\n",
       "</div>"
      ],
      "text/plain": [
       "      7313   2023-06-28 09:52:53   38.42895   6.00165\n",
       "0     7313   2023-06-28 09:43:19   38.43042   6.00446\n",
       "1     7313   2023-06-28 09:32:50   38.43204   6.00759\n",
       "2     7313   2023-06-28 09:22:47   38.43367   6.01062\n",
       "3     7313   2023-06-28 09:12:50   38.43546   6.01375\n",
       "4     7313   2023-06-28 09:02:53   38.43714   6.01680\n",
       "...    ...                   ...        ...       ...\n",
       "6649  7313   2023-05-06 16:59:14   41.19205   5.16864\n",
       "6650  7313   2023-05-06 16:49:55   41.19239   5.16617\n",
       "6651  7313   2023-05-06 16:39:16   41.19275   5.16317\n",
       "6652  7313   2023-05-06 16:29:15   41.19321   5.16027\n",
       "6653  7313   2023-05-06 15:07:00   41.20005   5.08352\n",
       "\n",
       "[6654 rows x 4 columns]"
      ]
     },
     "execution_count": 33,
     "metadata": {},
     "output_type": "execute_result"
    }
   ],
   "source": [
    "a"
   ]
  },
  {
   "cell_type": "code",
   "execution_count": null,
   "id": "6e05198e-451a-437a-a5b6-82afb58fc6d6",
   "metadata": {},
   "outputs": [],
   "source": []
  }
 ],
 "metadata": {
  "kernelspec": {
   "display_name": "Python 3 (ipykernel)",
   "language": "python",
   "name": "python3"
  },
  "language_info": {
   "codemirror_mode": {
    "name": "ipython",
    "version": 3
   },
   "file_extension": ".py",
   "mimetype": "text/x-python",
   "name": "python",
   "nbconvert_exporter": "python",
   "pygments_lexer": "ipython3",
   "version": "3.10.11"
  }
 },
 "nbformat": 4,
 "nbformat_minor": 5
}
