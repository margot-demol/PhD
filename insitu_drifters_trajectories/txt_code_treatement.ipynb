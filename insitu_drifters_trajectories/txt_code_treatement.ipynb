{
 "cells": [
  {
   "cell_type": "markdown",
   "id": "ebb33bfd-d7e0-4db6-b1df-8ab2386de6ad",
   "metadata": {},
   "source": [
    "# TXT files for CODE drifters"
   ]
  },
  {
   "cell_type": "code",
   "execution_count": 2,
   "id": "7dfc1c06-7e60-4381-b9c4-c0bdd7d13e7a",
   "metadata": {},
   "outputs": [],
   "source": [
    "import os\n",
    "from glob import glob\n",
    "import pandas as pd"
   ]
  },
  {
   "cell_type": "code",
   "execution_count": 1,
   "id": "f614d7a6-2249-4c70-a0ae-3f81e07f0b64",
   "metadata": {},
   "outputs": [],
   "source": [
    "raw_dir = '/Users/mdemol/DATA_DRIFTERS/drifters/raw'"
   ]
  },
  {
   "cell_type": "code",
   "execution_count": 4,
   "id": "7e6a3e43-7916-4dff-b166-4f989f92101c",
   "metadata": {},
   "outputs": [
    {
     "name": "stdout",
     "output_type": "stream",
     "text": [
      "7318\n"
     ]
    }
   ],
   "source": [
    "id_code =['7318']# ['7313', '7314', '7315', '7316', '7317','7318','7319', '7320', '7321', '7322',]\n",
    "for id_ in id_code : \n",
    "    txt = open(os.path.join(raw_dir, f'code_{id_}.txt'))\n",
    "    lines = txt.readlines()\n",
    "    trace = lines[2].split(' ')[2]\n",
    "    print(id_)\n",
    "    lines = [l.replace(f' Trace {trace}','') for l in lines[1:] if l !='\\n']\n",
    "    lines = [l.split(' ')[0] \n",
    "             + ', ' \n",
    "             + l.split(' ')[1] \n",
    "             + ' ' \n",
    "             +l.split(' ')[2]\n",
    "             +', '\n",
    "             +l.split(' ')[3]\n",
    "             +', '\n",
    "             +l.split(' ')[4]  for l in lines]\n",
    "    lines = ['id,time,lat,lon\\n']+lines\n",
    "    txt_out = open(os.path.join(raw_dir, f'code_{id_}_ok.txt'), 'w')\n",
    "    txt_out.writelines(lines)\n",
    "    txt_out.close()"
   ]
  },
  {
   "cell_type": "code",
   "execution_count": 5,
   "id": "83bd09f9-4eca-4acd-9167-76d483448383",
   "metadata": {},
   "outputs": [],
   "source": [
    "a = pd.read_csv(os.path.join(raw_dir, f'code_{id_}_ok.txt'))"
   ]
  },
  {
   "cell_type": "code",
   "execution_count": 6,
   "id": "cb74394f-25ed-4b96-ac48-f0e7a8f52945",
   "metadata": {},
   "outputs": [
    {
     "data": {
      "text/html": [
       "<div>\n",
       "<style scoped>\n",
       "    .dataframe tbody tr th:only-of-type {\n",
       "        vertical-align: middle;\n",
       "    }\n",
       "\n",
       "    .dataframe tbody tr th {\n",
       "        vertical-align: top;\n",
       "    }\n",
       "\n",
       "    .dataframe thead th {\n",
       "        text-align: right;\n",
       "    }\n",
       "</style>\n",
       "<table border=\"1\" class=\"dataframe\">\n",
       "  <thead>\n",
       "    <tr style=\"text-align: right;\">\n",
       "      <th></th>\n",
       "      <th>id</th>\n",
       "      <th>time</th>\n",
       "      <th>lat</th>\n",
       "      <th>lon</th>\n",
       "    </tr>\n",
       "  </thead>\n",
       "  <tbody>\n",
       "    <tr>\n",
       "      <th>0</th>\n",
       "      <td>7318</td>\n",
       "      <td>2023-06-14 23:45:29</td>\n",
       "      <td>37.18167</td>\n",
       "      <td>6.20208</td>\n",
       "    </tr>\n",
       "    <tr>\n",
       "      <th>1</th>\n",
       "      <td>7318</td>\n",
       "      <td>2023-06-14 20:52:51</td>\n",
       "      <td>37.16140</td>\n",
       "      <td>6.19200</td>\n",
       "    </tr>\n",
       "    <tr>\n",
       "      <th>2</th>\n",
       "      <td>7318</td>\n",
       "      <td>2023-06-14 20:32:59</td>\n",
       "      <td>37.15995</td>\n",
       "      <td>6.19191</td>\n",
       "    </tr>\n",
       "    <tr>\n",
       "      <th>3</th>\n",
       "      <td>7318</td>\n",
       "      <td>2023-06-14 06:49:24</td>\n",
       "      <td>37.20415</td>\n",
       "      <td>6.10565</td>\n",
       "    </tr>\n",
       "    <tr>\n",
       "      <th>4</th>\n",
       "      <td>7318</td>\n",
       "      <td>2023-06-14 06:39:24</td>\n",
       "      <td>37.20419</td>\n",
       "      <td>6.10488</td>\n",
       "    </tr>\n",
       "    <tr>\n",
       "      <th>...</th>\n",
       "      <td>...</td>\n",
       "      <td>...</td>\n",
       "      <td>...</td>\n",
       "      <td>...</td>\n",
       "    </tr>\n",
       "    <tr>\n",
       "      <th>3190</th>\n",
       "      <td>7318</td>\n",
       "      <td>2023-05-05 12:01:52</td>\n",
       "      <td>41.17451</td>\n",
       "      <td>5.11201</td>\n",
       "    </tr>\n",
       "    <tr>\n",
       "      <th>3191</th>\n",
       "      <td>7318</td>\n",
       "      <td>2023-05-05 11:51:57</td>\n",
       "      <td>41.17561</td>\n",
       "      <td>5.10740</td>\n",
       "    </tr>\n",
       "    <tr>\n",
       "      <th>3192</th>\n",
       "      <td>7318</td>\n",
       "      <td>2023-05-05 11:41:56</td>\n",
       "      <td>41.17632</td>\n",
       "      <td>5.10253</td>\n",
       "    </tr>\n",
       "    <tr>\n",
       "      <th>3193</th>\n",
       "      <td>7318</td>\n",
       "      <td>2023-05-05 11:35:25</td>\n",
       "      <td>41.17666</td>\n",
       "      <td>5.09978</td>\n",
       "    </tr>\n",
       "    <tr>\n",
       "      <th>3194</th>\n",
       "      <td>7318</td>\n",
       "      <td>2023-04-26 06:41:00</td>\n",
       "      <td>41.19982</td>\n",
       "      <td>5.01707</td>\n",
       "    </tr>\n",
       "  </tbody>\n",
       "</table>\n",
       "<p>3195 rows × 4 columns</p>\n",
       "</div>"
      ],
      "text/plain": [
       "        id                  time       lat      lon\n",
       "0     7318   2023-06-14 23:45:29  37.18167  6.20208\n",
       "1     7318   2023-06-14 20:52:51  37.16140  6.19200\n",
       "2     7318   2023-06-14 20:32:59  37.15995  6.19191\n",
       "3     7318   2023-06-14 06:49:24  37.20415  6.10565\n",
       "4     7318   2023-06-14 06:39:24  37.20419  6.10488\n",
       "...    ...                   ...       ...      ...\n",
       "3190  7318   2023-05-05 12:01:52  41.17451  5.11201\n",
       "3191  7318   2023-05-05 11:51:57  41.17561  5.10740\n",
       "3192  7318   2023-05-05 11:41:56  41.17632  5.10253\n",
       "3193  7318   2023-05-05 11:35:25  41.17666  5.09978\n",
       "3194  7318   2023-04-26 06:41:00  41.19982  5.01707\n",
       "\n",
       "[3195 rows x 4 columns]"
      ]
     },
     "execution_count": 6,
     "metadata": {},
     "output_type": "execute_result"
    }
   ],
   "source": [
    "a"
   ]
  },
  {
   "cell_type": "code",
   "execution_count": 3,
   "id": "6e05198e-451a-437a-a5b6-82afb58fc6d6",
   "metadata": {},
   "outputs": [],
   "source": [
    "download_dir = '/Users/mdemol/DATA_DRIFTERS/drifters/downloads'\n",
    "files = glob(os.path.join(download_dir,'svp_scripps','*'))\n",
    "for f in files:\n",
    "    file = open(f)\n",
    "    lines = file.readlines()\n",
    "    lines = [l.replace('\\x0c','') for l in lines]\n",
    "    file.close()\n",
    "    file = open(f, 'w')\n",
    "    file.writelines(lines)\n",
    "    file.close()"
   ]
  },
  {
   "cell_type": "code",
   "execution_count": null,
   "id": "569fe817-3e69-41d0-8c43-a9ba7a6ebc1e",
   "metadata": {},
   "outputs": [],
   "source": []
  }
 ],
 "metadata": {
  "kernelspec": {
   "display_name": "Python 3 (ipykernel)",
   "language": "python",
   "name": "python3"
  },
  "language_info": {
   "codemirror_mode": {
    "name": "ipython",
    "version": 3
   },
   "file_extension": ".py",
   "mimetype": "text/x-python",
   "name": "python",
   "nbconvert_exporter": "python",
   "pygments_lexer": "ipython3",
   "version": "3.10.11"
  }
 },
 "nbformat": 4,
 "nbformat_minor": 5
}
