{
 "cells": [
  {
   "cell_type": "markdown",
   "id": "be6d13bc-c9da-46be-864d-d07474ac0eef",
   "metadata": {},
   "source": [
    "# Comparison velocities and acceleration computation"
   ]
  },
  {
   "cell_type": "code",
   "execution_count": 2,
   "id": "e51b9346-5b52-4c1c-942b-7328086f19f4",
   "metadata": {},
   "outputs": [],
   "source": [
    "import os\n",
    "from glob import glob\n",
    "\n",
    "import numpy as np\n",
    "import pandas as pd\n",
    "import xarray as xr\n",
    "import dask.dataframe as dd\n",
    "import dask.array as da\n",
    "\n",
    "#import cartopy.crs as ccrs\n",
    "#import cartopy.feature as cfeature\n",
    "#import geopandas as gpd\n",
    "from shapely.geometry import Polygon\n",
    "\n",
    "%matplotlib inline\n",
    "from matplotlib import pyplot as plt\n",
    "\n",
    "\n",
    "import drifters.utils as ut\n",
    "import pynsitu as pin\n",
    "\n",
    "from dask.delayed import delayed\n",
    "\n",
    "import GDP_lib as gdp\n",
    "\n",
    "from GDP_lib import root_dir"
   ]
  },
  {
   "cell_type": "code",
   "execution_count": 3,
   "id": "8e59ae7f-8eb8-4791-b327-b67a9f60c19b",
   "metadata": {},
   "outputs": [
    {
     "data": {
      "text/html": [
       "<div>\n",
       "    <div style=\"width: 24px; height: 24px; background-color: #e1e1e1; border: 3px solid #9D9D9D; border-radius: 5px; position: absolute;\"> </div>\n",
       "    <div style=\"margin-left: 48px;\">\n",
       "        <h3 style=\"margin-bottom: 0px;\">Client</h3>\n",
       "        <p style=\"color: #9D9D9D; margin-bottom: 0px;\">Client-6640738b-64c8-11ed-a802-0cc47a3f765b</p>\n",
       "        <table style=\"width: 100%; text-align: left;\">\n",
       "\n",
       "        <tr>\n",
       "        \n",
       "            <td style=\"text-align: left;\"><strong>Connection method:</strong> Cluster object</td>\n",
       "            <td style=\"text-align: left;\"><strong>Cluster type:</strong> dask_jobqueue.PBSCluster</td>\n",
       "        \n",
       "        </tr>\n",
       "\n",
       "        \n",
       "            <tr>\n",
       "                <td style=\"text-align: left;\">\n",
       "                    <strong>Dashboard: </strong> <a href=\"http://10.148.0.84:8787/status\" target=\"_blank\">http://10.148.0.84:8787/status</a>\n",
       "                </td>\n",
       "                <td style=\"text-align: left;\"></td>\n",
       "            </tr>\n",
       "        \n",
       "\n",
       "        </table>\n",
       "\n",
       "        \n",
       "            <details>\n",
       "            <summary style=\"margin-bottom: 20px;\"><h3 style=\"display: inline;\">Cluster Info</h3></summary>\n",
       "            <div class=\"jp-RenderedHTMLCommon jp-RenderedHTML jp-mod-trusted jp-OutputArea-output\">\n",
       "    <div style=\"width: 24px; height: 24px; background-color: #e1e1e1; border: 3px solid #9D9D9D; border-radius: 5px; position: absolute;\">\n",
       "    </div>\n",
       "    <div style=\"margin-left: 48px;\">\n",
       "        <h3 style=\"margin-bottom: 0px; margin-top: 0px;\">PBSCluster</h3>\n",
       "        <p style=\"color: #9D9D9D; margin-bottom: 0px;\">a8ee5297</p>\n",
       "        <table style=\"width: 100%; text-align: left;\">\n",
       "            <tr>\n",
       "                <td style=\"text-align: left;\">\n",
       "                    <strong>Dashboard:</strong> <a href=\"http://10.148.0.84:8787/status\" target=\"_blank\">http://10.148.0.84:8787/status</a>\n",
       "                </td>\n",
       "                <td style=\"text-align: left;\">\n",
       "                    <strong>Workers:</strong> 0\n",
       "                </td>\n",
       "            </tr>\n",
       "            <tr>\n",
       "                <td style=\"text-align: left;\">\n",
       "                    <strong>Total threads:</strong> 0\n",
       "                </td>\n",
       "                <td style=\"text-align: left;\">\n",
       "                    <strong>Total memory:</strong> 0 B\n",
       "                </td>\n",
       "            </tr>\n",
       "            \n",
       "        </table>\n",
       "\n",
       "        <details>\n",
       "            <summary style=\"margin-bottom: 20px;\">\n",
       "                <h3 style=\"display: inline;\">Scheduler Info</h3>\n",
       "            </summary>\n",
       "\n",
       "            <div style=\"\">\n",
       "    <div>\n",
       "        <div style=\"width: 24px; height: 24px; background-color: #FFF7E5; border: 3px solid #FF6132; border-radius: 5px; position: absolute;\"> </div>\n",
       "        <div style=\"margin-left: 48px;\">\n",
       "            <h3 style=\"margin-bottom: 0px;\">Scheduler</h3>\n",
       "            <p style=\"color: #9D9D9D; margin-bottom: 0px;\">Scheduler-a27fd3e5-fed6-43d2-a187-724a0df315f6</p>\n",
       "            <table style=\"width: 100%; text-align: left;\">\n",
       "                <tr>\n",
       "                    <td style=\"text-align: left;\">\n",
       "                        <strong>Comm:</strong> tcp://10.148.0.84:54831\n",
       "                    </td>\n",
       "                    <td style=\"text-align: left;\">\n",
       "                        <strong>Workers:</strong> 0\n",
       "                    </td>\n",
       "                </tr>\n",
       "                <tr>\n",
       "                    <td style=\"text-align: left;\">\n",
       "                        <strong>Dashboard:</strong> <a href=\"http://10.148.0.84:8787/status\" target=\"_blank\">http://10.148.0.84:8787/status</a>\n",
       "                    </td>\n",
       "                    <td style=\"text-align: left;\">\n",
       "                        <strong>Total threads:</strong> 0\n",
       "                    </td>\n",
       "                </tr>\n",
       "                <tr>\n",
       "                    <td style=\"text-align: left;\">\n",
       "                        <strong>Started:</strong> Just now\n",
       "                    </td>\n",
       "                    <td style=\"text-align: left;\">\n",
       "                        <strong>Total memory:</strong> 0 B\n",
       "                    </td>\n",
       "                </tr>\n",
       "            </table>\n",
       "        </div>\n",
       "    </div>\n",
       "\n",
       "    <details style=\"margin-left: 48px;\">\n",
       "        <summary style=\"margin-bottom: 20px;\">\n",
       "            <h3 style=\"display: inline;\">Workers</h3>\n",
       "        </summary>\n",
       "\n",
       "        \n",
       "\n",
       "    </details>\n",
       "</div>\n",
       "\n",
       "        </details>\n",
       "    </div>\n",
       "</div>\n",
       "            </details>\n",
       "        \n",
       "\n",
       "    </div>\n",
       "</div>"
      ],
      "text/plain": [
       "<Client: 'tcp://10.148.0.84:54831' processes=0 threads=0, memory=0 B>"
      ]
     },
     "execution_count": 3,
     "metadata": {},
     "output_type": "execute_result"
    }
   ],
   "source": [
    "from dask.distributed import Client\n",
    "\n",
    "if True:\n",
    "    from dask_jobqueue import PBSCluster\n",
    "    from dask.distributed import Client\n",
    "    #cluster = PBSCluster()\n",
    "    #w = cluster.scale(jobs=3) # 2 not enough for lon, lat, year, binning\n",
    "    cluster = PBSCluster(cores=3, processes=3, walltime='04:00:00')\n",
    "    w = cluster.scale(jobs=8)\n",
    "else:\n",
    "    from dask.distributed import LocalCluster\n",
    "    cluster = LocalCluster()\n",
    "    \n",
    "client = Client(cluster)\n",
    "client"
   ]
  },
  {
   "cell_type": "code",
   "execution_count": 4,
   "id": "f4ccf5df-6e60-4d9e-a508-8b8d34ffeba0",
   "metadata": {},
   "outputs": [],
   "source": [
    "parquet_argos = os.path.join(root_dir, \"argos_av_time.parquet\")\n",
    "parquet_gps = os.path.join(root_dir, \"gps_av_time.parquet\")"
   ]
  },
  {
   "cell_type": "code",
   "execution_count": 5,
   "id": "8a363422-49be-473d-b87f-8d4c135b654b",
   "metadata": {},
   "outputs": [],
   "source": [
    "df_gps = dd.read_parquet(parquet_gps).persist()\n",
    "df_argos = dd.read_parquet(parquet_argos).persist()"
   ]
  },
  {
   "cell_type": "markdown",
   "id": "d6a64b71-ddb4-4f6f-91d0-8f330a056829",
   "metadata": {},
   "source": [
    "__________\n",
    "## Global mean/variance/std"
   ]
  },
  {
   "cell_type": "code",
   "execution_count": 78,
   "id": "f4742a69-54c4-4f54-bd71-603b9e05e0cb",
   "metadata": {},
   "outputs": [],
   "source": [
    "def print_mean_var(df):\n",
    "    for l in df.columns :\n",
    "        print(l + f': mean = {df[l].mean().compute()}, variance = {df[l].var().compute()}, std = {df[l].std().compute()}')"
   ]
  },
  {
   "cell_type": "code",
   "execution_count": 79,
   "id": "a0989214-2de5-4cc2-b61b-c64b92cc59a3",
   "metadata": {},
   "outputs": [
    {
     "name": "stdout",
     "output_type": "stream",
     "text": [
      "ve: mean = 0.011794044249571098, variance = 0.0628432184457779, std = 0.2506854832172394\n",
      "vn: mean = 0.0033113528339724953, variance = 0.04800022020936012, std = 0.21908952295780182\n",
      "ae: mean = -2.767218635963441e-10, variance = 1.4280341147867293e-10, std = 1.1950038137122113e-05\n",
      "an: mean = -7.194039849104883e-10, variance = 1.4384357997304564e-10, std = 1.1993480728005763e-05\n",
      "vex: mean = 0.011957733667706385, variance = 0.06443895856264234, std = 0.25384829832528394\n",
      "vny: mean = -0.0010015627356488742, variance = 0.12362395520161872, std = 0.35160198406951393\n",
      "aex: mean = -8.944412796126405e-10, variance = 6.241906007793556e-10, std = 2.4983806771173916e-05\n",
      "any: mean = -2.009514858902962e-09, variance = 5.235646728768863e-10, std = 2.288153563196505e-05\n"
     ]
    }
   ],
   "source": [
    "print_mean_var(df_gps[['ve', 'vn', 'ae', 'an', 'vex', 'vny', 'aex', 'any']])"
   ]
  },
  {
   "cell_type": "code",
   "execution_count": 80,
   "id": "ff376a49-24a5-4c29-b5a3-0ed436d27ec8",
   "metadata": {},
   "outputs": [
    {
     "name": "stdout",
     "output_type": "stream",
     "text": [
      "ve: mean = 0.005583182291101385, variance = 0.07471064478158951, std = 0.27333247661590576\n",
      "vn: mean = 0.005280918545608172, variance = 0.0525890477001667, std = 0.22932301461696625\n",
      "ae: mean = -5.596267706297923e-10, variance = 3.04483495199027e-10, std = 1.7449455441331887e-05\n",
      "an: mean = 2.750317536421524e-11, variance = 2.323882180063487e-10, std = 1.5244284765325945e-05\n",
      "vex: mean = 0.005567501588995124, variance = 0.07575240500319723, std = 0.2752315479795098\n",
      "vny: mean = 0.005090686674079184, variance = 0.1401732260550757, std = 0.3743971501695435\n",
      "aex: mean = -2.493054724798962e-09, variance = 2.4987916769100803e-09, std = 4.998791530870317e-05\n",
      "any: mean = -4.6236329216281857e-10, variance = 1.5814457297611844e-09, std = 3.97673953102436e-05\n"
     ]
    }
   ],
   "source": [
    "print_mean_var(df_argos[['ve', 'vn', 'ae', 'an', 'vex', 'vny', 'aex', 'any']])"
   ]
  },
  {
   "cell_type": "markdown",
   "id": "53f2b9aa-117d-4060-ad1b-6d55dff4b725",
   "metadata": {},
   "source": [
    "______________\n",
    "## Trajectories"
   ]
  },
  {
   "cell_type": "code",
   "execution_count": null,
   "id": "f2fb4d68-179a-4e9d-9fdf-54e68cb144af",
   "metadata": {},
   "outputs": [],
   "source": [
    "grp_id = df_gps.get_partition(0).groupby('id').get_group(22192).set_index('time').compute()"
   ]
  },
  {
   "cell_type": "code",
   "execution_count": null,
   "id": "03d0a49b-92bb-450b-80b7-bccb2da00dd8",
   "metadata": {},
   "outputs": [],
   "source": [
    "grp_id['ve'].plot(label = 've')\n",
    "grp_id['vn'].plot(label = 'vn')\n",
    "grp_id['vex'].plot(label = 'vex')\n",
    "grp_id['vny'].plot(label = 'vny')\n",
    "plt.legend()"
   ]
  },
  {
   "cell_type": "code",
   "execution_count": null,
   "id": "3188b214-af8c-4bbb-8002-e37b64c37341",
   "metadata": {},
   "outputs": [],
   "source": [
    "grp_id['ae'].plot(label = 'ae')\n",
    "grp_id['an'].plot(label = 'an')\n",
    "grp_id['aex'].plot(label = 'aex')\n",
    "grp_id['any'].plot(label = 'any')\n",
    "plt.legend()"
   ]
  },
  {
   "cell_type": "markdown",
   "id": "237c994f-3302-4b13-b028-b3169286694f",
   "metadata": {},
   "source": [
    "______________\n",
    "## Dependence on x,y"
   ]
  },
  {
   "cell_type": "code",
   "execution_count": null,
   "id": "5c7e72c3-c7ff-482d-b29d-adb49e5d5086",
   "metadata": {},
   "outputs": [],
   "source": [
    "def deriv_dep2_x(df):\n",
    "    xmin = (df[\"x\"].min()).compute()\n",
    "    xmax = (df[\"x\"].max()).compute()\n",
    "    df['ae-ax/ae']=df['ae-ax']/df['ae']\n",
    "    df['an-ay/an']=df['an-ay']/df['an']\n",
    "    df['ve-ux/ve']=df['ve-ux']/df['ve']\n",
    "    df['vn-uy/vn']=df['vn-uy']/df['vn']\n",
    "    #delta_gap = (gap_min - t_start)/pd.Timedelta('1H')\n",
    "    xbins = np.arange(xmin, xmax, 500) # 10min binning\n",
    "    df['xcut'] = df[\"x\"].map_partitions(pd.cut, xbins)\n",
    "    mean = (df[['ae-ax', 'an-ay', 've-ux', 'vn-uy','ae-ax/ae', 'an-ay/an', 've-ux/ve', 'vn-uy/vn']]\n",
    "         .groupby(df.xcut)\n",
    "         .mean()\n",
    "         .compute()\n",
    "         .rename(columns={l:'mean_'+ l for l in ['ae-ax', 'an-ay', 've-ux', 'vn-uy','ae-ax/ae', 'an-ay/an', 've-ux/ve', 'vn-uy/vn']})\n",
    "         #.to_frame() ALREADY A DATAFRAME\n",
    "        )\n",
    "    mean['x'] = mean.index.to_series().apply(lambda d: d.mid)\n",
    "    mean = mean.set_index('x')\n",
    "\n",
    "    ds = (mean\n",
    "          #.drop(columns=[\"year\",])\n",
    "          .to_xarray()\n",
    "         )\n",
    "    return ds"
   ]
  },
  {
   "cell_type": "code",
   "execution_count": null,
   "id": "0ceb789c-4863-454c-aa1e-a4da33019b8d",
   "metadata": {},
   "outputs": [],
   "source": [
    "def deriv_dep2_y(df):\n",
    "    xmin = (df[\"y\"].min()).compute()\n",
    "    xmax = (df[\"y\"].max()).compute()\n",
    "    df['ae-ax/ae']=df['ae-ax']/df['ae']\n",
    "    df['an-ay/an']=df['an-ay']/df['an']\n",
    "    df['ve-ux/ve']=df['ve-ux']/df['ve']\n",
    "    df['vn-uy/vn']=df['vn-uy']/df['vn']\n",
    "    #delta_gap = (gap_min - t_start)/pd.Timedelta('1H')\n",
    "    xbins = np.arange(xmin, xmax, 500) # 10min binning\n",
    "    df['ycut'] = df[\"y\"].map_partitions(pd.cut, xbins)\n",
    "    mean = (df[['ae-ax', 'an-ay', 've-ux', 'vn-uy','ae-ax/ae', 'an-ay/an', 've-ux/ve', 'vn-uy/vn']]\n",
    "         .groupby(df.ycut)\n",
    "         .mean()\n",
    "         .compute()\n",
    "         .rename(columns={l:'mean_'+ l for l in ['ae-ax', 'an-ay', 've-ux', 'vn-uy','ae-ax/ae', 'an-ay/an', 've-ux/ve', 'vn-uy/vn']})\n",
    "         #.to_frame() ALREADY A DATAFRAME\n",
    "        )\n",
    "    mean['y'] = mean.index.to_series().apply(lambda d: d.mid)\n",
    "    mean = mean.set_index('y')\n",
    "\n",
    "    ds = (mean\n",
    "          #.drop(columns=[\"year\",])\n",
    "          .to_xarray()\n",
    "         )\n",
    "    return ds"
   ]
  },
  {
   "cell_type": "code",
   "execution_count": null,
   "id": "cf7fc36e-7e8a-41a3-b197-e24142e319c4",
   "metadata": {},
   "outputs": [],
   "source": [
    "ds_x_gps = deriv_dep2_x(df_gps)\n",
    "ds_y_gps = deriv_dep2_y(df_gps)"
   ]
  },
  {
   "cell_type": "code",
   "execution_count": null,
   "id": "1817d130-04c9-4b11-8b3f-c9d5718f5445",
   "metadata": {},
   "outputs": [],
   "source": [
    "abs(ds_x_gps['mean_ae-ax/ae']).plot(label='mean_ae-ax/ae')\n",
    "abs(ds_x_gps['mean_an-ay/an']).plot(label='mean_an-ay/an')\n",
    "plt.legend()"
   ]
  },
  {
   "cell_type": "code",
   "execution_count": null,
   "id": "59ea61f4-dce2-4080-a93c-dd6d8ca13f09",
   "metadata": {},
   "outputs": [],
   "source": [
    "abs(ds_x_gps['mean_ae-ax']).plot(label='mean_ae-ax')\n",
    "abs(ds_x_gps['mean_an-ay']).plot(label='mean_an-ay')\n",
    "plt.legend()"
   ]
  },
  {
   "cell_type": "code",
   "execution_count": null,
   "id": "2a432874-75f9-4d66-bbe3-eb5888f8d565",
   "metadata": {},
   "outputs": [],
   "source": [
    "abs(ds_y_gps['mean_ae-ax/ae']).plot(label='mean_ae-ax/ae')\n",
    "abs(ds_y_gps['mean_an-ay/an']).plot(label='mean_an-ay/an')\n",
    "plt.legend()"
   ]
  },
  {
   "cell_type": "code",
   "execution_count": null,
   "id": "e27cb16d-d7f2-4f15-853c-ae324d31e084",
   "metadata": {},
   "outputs": [],
   "source": [
    "abs(ds_y_gps['mean_ae-ax']).plot(label='mean_ae-ax')\n",
    "abs(ds_y_gps['mean_an-ay']).plot(label='mean_an-ay')\n",
    "plt.legend()"
   ]
  },
  {
   "cell_type": "code",
   "execution_count": null,
   "id": "9e749a83-af38-4cb6-bf00-e5a7d36d1615",
   "metadata": {},
   "outputs": [],
   "source": [
    "abs(ds_x_gps['mean_ve-ux/ve']).plot(label='mean_ve-ux/ve')\n",
    "abs(ds_x_gps['mean_vn-uy/vn']).plot(label='mean_vn-uy/vn')\n",
    "plt.legend()"
   ]
  },
  {
   "cell_type": "code",
   "execution_count": null,
   "id": "ba552282-ee6b-4ff3-b28d-a9dceaf59fd7",
   "metadata": {},
   "outputs": [],
   "source": [
    "abs(ds_y_gps['mean_ve-ux/ve']).plot(label='mean_ve-ux/ve')\n",
    "abs(ds_y_gps['mean_vn-uy/vn']).plot(label='mean_vn-uy/vn')\n",
    "plt.legend()"
   ]
  },
  {
   "cell_type": "code",
   "execution_count": null,
   "id": "18afa4e8-1297-4a1b-a7f4-68aa5bbb7b0d",
   "metadata": {},
   "outputs": [],
   "source": [
    "abs(ds_y_gps['mean_ve-ux']).plot(label='mean_ve-ux')\n",
    "abs(ds_y_gps['mean_vn-uy']).plot(label='mean_vn-uy')\n",
    "plt.legend()"
   ]
  },
  {
   "cell_type": "markdown",
   "id": "bfc4ca0a-eed9-4ff9-932a-a051ed460dba",
   "metadata": {},
   "source": [
    "## Dependence on the gap"
   ]
  },
  {
   "cell_type": "code",
   "execution_count": null,
   "id": "9d7ac532-24ba-4827-be8f-2c3a0ffb9092",
   "metadata": {},
   "outputs": [],
   "source": []
  }
 ],
 "metadata": {
  "kernelspec": {
   "display_name": "Python 3 (ipykernel)",
   "language": "python",
   "name": "python3"
  },
  "language_info": {
   "codemirror_mode": {
    "name": "ipython",
    "version": 3
   },
   "file_extension": ".py",
   "mimetype": "text/x-python",
   "name": "python",
   "nbconvert_exporter": "python",
   "pygments_lexer": "ipython3",
   "version": "3.9.13"
  }
 },
 "nbformat": 4,
 "nbformat_minor": 5
}
