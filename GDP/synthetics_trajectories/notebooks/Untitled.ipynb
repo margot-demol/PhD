{
 "cells": [
  {
   "cell_type": "code",
   "execution_count": null,
   "id": "ced23e21-541b-48e6-a60c-d541575fac2c",
   "metadata": {},
   "outputs": [],
   "source": []
  },
  {
   "cell_type": "code",
   "execution_count": 2,
   "id": "27f65799-4ba9-4670-bd39-dca769737d4b",
   "metadata": {},
   "outputs": [],
   "source": [
    "import os\n",
    "import xarray as xr\n",
    "import numpy as np\n",
    "\n",
    "\n",
    "import matplotlib.pyplot as plt\n",
    "from cycler import cycler\n",
    "\n",
    "import viggiano_2020 as vig\n",
    "import plot as fplt\n",
    "from sstats import signals as sg\n",
    "from sstats import sigp as sigp\n",
    "from sstats import tseries as ts\n",
    "from sstats import get_cmap_colors"
   ]
  }
 ],
 "metadata": {
  "kernelspec": {
   "display_name": "Python 3 (ipykernel)",
   "language": "python",
   "name": "python3"
  },
  "language_info": {
   "codemirror_mode": {
    "name": "ipython",
    "version": 3
   },
   "file_extension": ".py",
   "mimetype": "text/x-python",
   "name": "python",
   "nbconvert_exporter": "python",
   "pygments_lexer": "ipython3",
   "version": "3.9.13"
  }
 },
 "nbformat": 4,
 "nbformat_minor": 5
}
